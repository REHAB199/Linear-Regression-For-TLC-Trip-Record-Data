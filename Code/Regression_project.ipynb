{
 "cells": [
  {
   "cell_type": "markdown",
   "id": "b941e000",
   "metadata": {
    "id": "b941e000"
   },
   "source": [
    "# TLC Trip Record Data Prediction\n",
    "---"
   ]
  },
  {
   "cell_type": "markdown",
   "id": "87daad60",
   "metadata": {
    "id": "87daad60"
   },
   "source": [
    "---\n",
    "## Import packages "
   ]
  },
  {
   "cell_type": "code",
   "execution_count": null,
   "id": "dedd16c7",
   "metadata": {
    "id": "dedd16c7"
   },
   "outputs": [],
   "source": [
    "import pandas as pd\n",
    "import numpy as np\n",
    "import sklearn\n",
    "import seaborn as sns\n",
    "import matplotlib.pyplot as plt\n",
    "%matplotlib inline\n",
    "from sklearn.pipeline import Pipeline\n",
    "%config InlineBackend.figure_format = 'svg'\n",
    "from sklearn.model_selection import train_test_split\n",
    "from sklearn.preprocessing import StandardScaler, PolynomialFeatures\n",
    "import warnings\n",
    "warnings.filterwarnings('ignore')\n",
    "import random\n",
    "from sklearn.linear_model import LinearRegression, Lasso, Ridge, RidgeCV\n",
    "from yellowbrick.regressor import prediction_error"
   ]
  },
  {
   "cell_type": "code",
   "execution_count": null,
   "id": "2c38bfc9",
   "metadata": {
    "colab": {
     "base_uri": "https://localhost:8080/",
     "height": 0
    },
    "id": "2c38bfc9",
    "outputId": "eebebc6d-ab36-4383-af36-dae1d5ad29d3"
   },
   "outputs": [],
   "source": [
    "df1= pd.read_csv('green_tripdata-one-.csv')\n",
    "df1"
   ]
  },
  {
   "cell_type": "code",
   "execution_count": null,
   "id": "f5c2081e",
   "metadata": {
    "colab": {
     "base_uri": "https://localhost:8080/",
     "height": 0
    },
    "id": "f5c2081e",
    "outputId": "f820d92d-025b-493e-8df1-09c5000551a3"
   },
   "outputs": [],
   "source": [
    "df2= pd.read_csv('green_tripdata_two-.csv')\n",
    "df2"
   ]
  },
  {
   "cell_type": "code",
   "execution_count": null,
   "id": "b8d9d9d3",
   "metadata": {
    "colab": {
     "base_uri": "https://localhost:8080/",
     "height": 0
    },
    "id": "b8d9d9d3",
    "outputId": "67ecaf30-f426-44d8-c71d-654b84d6a4a4"
   },
   "outputs": [],
   "source": [
    "con_data= pd.concat([df1,df2])   # concat two dataset\n",
    "con_data.head(10)"
   ]
  },
  {
   "cell_type": "code",
   "execution_count": null,
   "id": "Yaa-blddliBk",
   "metadata": {
    "id": "Yaa-blddliBk"
   },
   "outputs": [],
   "source": [
    "con_data= con_data.reset_index(drop= True)"
   ]
  },
  {
   "cell_type": "code",
   "execution_count": null,
   "id": "0553b0b6",
   "metadata": {
    "colab": {
     "base_uri": "https://localhost:8080/"
    },
    "id": "0553b0b6",
    "outputId": "e496e08f-a814-444c-c642-29d18ff43017"
   },
   "outputs": [],
   "source": [
    "con_data.shape"
   ]
  },
  {
   "cell_type": "code",
   "execution_count": null,
   "id": "a5c85b76",
   "metadata": {
    "colab": {
     "base_uri": "https://localhost:8080/"
    },
    "id": "a5c85b76",
    "outputId": "406a6fac-284b-4fdc-bb84-a14eb2d1a76e",
    "scrolled": false
   },
   "outputs": [],
   "source": [
    "con_data.info()"
   ]
  },
  {
   "cell_type": "code",
   "execution_count": null,
   "id": "1b6925d0",
   "metadata": {
    "colab": {
     "base_uri": "https://localhost:8080/",
     "height": 0
    },
    "id": "1b6925d0",
    "outputId": "bec86824-9748-4432-d501-012aa98fd5da"
   },
   "outputs": [],
   "source": [
    "duplicate = con_data.duplicated()\n",
    "print(duplicate.sum())\n",
    "con_data[duplicate]"
   ]
  },
  {
   "cell_type": "code",
   "execution_count": null,
   "id": "rXdNhp7Y-fG2",
   "metadata": {
    "colab": {
     "base_uri": "https://localhost:8080/"
    },
    "id": "rXdNhp7Y-fG2",
    "outputId": "e550205b-d392-4cca-d60d-689a99c9be3d"
   },
   "outputs": [],
   "source": [
    "duplicate = con_data.index.duplicated()\n",
    "print(duplicate.sum())"
   ]
  },
  {
   "cell_type": "code",
   "execution_count": null,
   "id": "ec43c7a0",
   "metadata": {
    "id": "ec43c7a0"
   },
   "outputs": [],
   "source": [
    "# split the data for train and test\n",
    "con_data_train , con_data_test = train_test_split(con_data, test_size=0.2, random_state=199)"
   ]
  },
  {
   "cell_type": "code",
   "execution_count": null,
   "id": "b6446b84",
   "metadata": {
    "id": "b6446b84"
   },
   "outputs": [],
   "source": [
    "# split the train for train and val\n",
    "con_data_train2, con_data_val =  train_test_split(con_data_train, test_size=0.2, random_state=199)"
   ]
  },
  {
   "cell_type": "markdown",
   "id": "1vqXDAvsgV2-",
   "metadata": {
    "id": "1vqXDAvsgV2-"
   },
   "source": [
    "---\n",
    "## Feature Engineering on Time"
   ]
  },
  {
   "cell_type": "code",
   "execution_count": null,
   "id": "2466f60b",
   "metadata": {
    "id": "2466f60b"
   },
   "outputs": [],
   "source": [
    "# convert type pickup datetime for train\n",
    "con_data_train2['lpep_pickup_datetime']= pd.to_datetime(con_data_train2['lpep_pickup_datetime'],format=\"%Y-%m-%d %H:%M:%S\")\n",
    "\n",
    "# convert type pickup datetime for val\n",
    "con_data_val['lpep_pickup_datetime']= pd.to_datetime(con_data_val['lpep_pickup_datetime'],format=\"%Y-%m-%d %H:%M:%S\")\n",
    "\n",
    "# convert type pickup datetime for test\n",
    "con_data_test['lpep_pickup_datetime']= pd.to_datetime(con_data_test['lpep_pickup_datetime'],format=\"%Y-%m-%d %H:%M:%S\")\n",
    "\n",
    "############################\n",
    "\n",
    "# convert type dropoff datetime for train\n",
    "con_data_train2['lpep_dropoff_datetime']= pd.to_datetime(con_data_train2['lpep_dropoff_datetime'],format=\"%Y-%m-%d %H:%M:%S\") \n",
    "\n",
    "# convert type dropoff datetime for val\n",
    "con_data_val['lpep_dropoff_datetime']= pd.to_datetime(con_data_val['lpep_dropoff_datetime'],format=\"%Y-%m-%d %H:%M:%S\")\n",
    "\n",
    "# convert type dropoff datetime for test\n",
    "con_data_test['lpep_dropoff_datetime']= pd.to_datetime(con_data_test['lpep_dropoff_datetime'],format=\"%Y-%m-%d %H:%M:%S\") "
   ]
  },
  {
   "cell_type": "code",
   "execution_count": null,
   "id": "0a74790d",
   "metadata": {
    "colab": {
     "base_uri": "https://localhost:8080/"
    },
    "id": "0a74790d",
    "outputId": "4fe96264-d494-4c0a-cc46-ed5568c81f4f"
   },
   "outputs": [],
   "source": [
    "con_data_train2.dtypes"
   ]
  },
  {
   "cell_type": "code",
   "execution_count": null,
   "id": "094d7d28",
   "metadata": {
    "colab": {
     "base_uri": "https://localhost:8080/"
    },
    "id": "094d7d28",
    "outputId": "c2e5591b-2256-4ca2-9e81-2987f1090600",
    "scrolled": false
   },
   "outputs": [],
   "source": [
    "con_data_val.dtypes"
   ]
  },
  {
   "cell_type": "code",
   "execution_count": null,
   "id": "aeed8eb7",
   "metadata": {
    "colab": {
     "base_uri": "https://localhost:8080/"
    },
    "id": "aeed8eb7",
    "outputId": "74dab550-9b58-47f6-bab0-4132cb412222"
   },
   "outputs": [],
   "source": [
    "con_data_test.dtypes"
   ]
  },
  {
   "cell_type": "code",
   "execution_count": null,
   "id": "52580749",
   "metadata": {
    "id": "52580749"
   },
   "outputs": [],
   "source": [
    "#### Pickup datetime convert ####\n",
    "\n",
    "# for train\n",
    "\n",
    "#extract month\n",
    "con_data_train2[\"month_pickup\"] = pd.DatetimeIndex(con_data_train2[\"lpep_pickup_datetime\"]).month\n",
    "\n",
    "#extract week day \n",
    "con_data_train2[\"week_day_pickup\"]= con_data_train2[\"lpep_pickup_datetime\"].dt.weekday\n",
    "\n",
    "#extract day \n",
    "con_data_train2[\"day_pickup\"]= con_data_train2[\"lpep_pickup_datetime\"].dt.day\n",
    "\n",
    "#extract hour\n",
    "con_data_train2[\"hour_pickup\"]= con_data_train2[\"lpep_pickup_datetime\"].dt.hour \n",
    "\n",
    "con_data_train2 =con_data_train2.sort_values(by = \"lpep_pickup_datetime\",ascending = True)\n",
    "\n",
    "#####################\n",
    "\n",
    "# for val\n",
    "\n",
    "#extract month\n",
    "con_data_val[\"month_pickup\"] = pd.DatetimeIndex(con_data_val[\"lpep_pickup_datetime\"]).month\n",
    "\n",
    "#extract week day \n",
    "con_data_val[\"week_day_pickup\"]= con_data_val[\"lpep_pickup_datetime\"].dt.weekday\n",
    "\n",
    "#extract day \n",
    "con_data_val[\"day_pickup\"]= con_data_val[\"lpep_pickup_datetime\"].dt.day\n",
    "\n",
    "#extract hour\n",
    "con_data_val[\"hour_pickup\"]= con_data_val[\"lpep_pickup_datetime\"].dt.hour \n",
    "\n",
    "con_data_val =con_data_val.sort_values(by = \"lpep_pickup_datetime\",ascending = True)\n",
    "\n",
    "#####################\n",
    "\n",
    "# for test\n",
    "\n",
    "#extract month\n",
    "con_data_test[\"month_pickup\"] = pd.DatetimeIndex(con_data_test[\"lpep_pickup_datetime\"]).month\n",
    "\n",
    "#extract week day \n",
    "con_data_test[\"week_day_pickup\"]= con_data_test[\"lpep_pickup_datetime\"].dt.weekday\n",
    "\n",
    "#extract day \n",
    "con_data_test[\"day_pickup\"]= con_data_test[\"lpep_pickup_datetime\"].dt.day\n",
    "\n",
    "#extract hour\n",
    "con_data_test[\"hour_pickup\"]= con_data_test[\"lpep_pickup_datetime\"].dt.hour \n",
    "\n",
    "con_data_test =con_data_test.sort_values(by = \"lpep_pickup_datetime\",ascending = True)"
   ]
  },
  {
   "cell_type": "code",
   "execution_count": null,
   "id": "2639ae0c",
   "metadata": {
    "id": "2639ae0c"
   },
   "outputs": [],
   "source": [
    "#### Dropoff datetime convert ####\n",
    "\n",
    "# for train\n",
    "\n",
    "#extract month\n",
    "con_data_train2[\"month_dropoff\"] = pd.DatetimeIndex(con_data_train2[\"lpep_dropoff_datetime\"]).month\n",
    "\n",
    "#extract week day \n",
    "con_data_train2[\"week_day_dropoff\"]= con_data_train2[\"lpep_dropoff_datetime\"].dt.weekday\n",
    "\n",
    "#extract day \n",
    "con_data_train2[\"day_dropoff\"]= con_data_train2[\"lpep_dropoff_datetime\"].dt.day\n",
    "\n",
    "#extract hour\n",
    "con_data_train2[\"hour_dropoff\"]= con_data_train2[\"lpep_dropoff_datetime\"].dt.hour \n",
    "\n",
    "con_data_train2 =con_data_train2.sort_values(by = \"lpep_dropoff_datetime\",ascending = True)\n",
    "\n",
    "#####################\n",
    "\n",
    "# for val\n",
    "\n",
    "#extract month\n",
    "con_data_val[\"month_dropoff\"] = pd.DatetimeIndex(con_data_val[\"lpep_dropoff_datetime\"]).month\n",
    "\n",
    "#extract week day \n",
    "con_data_val[\"week_day_dropoff\"]= con_data_val[\"lpep_dropoff_datetime\"].dt.weekday\n",
    "\n",
    "#extract day \n",
    "con_data_val[\"day_dropoff\"]= con_data_val[\"lpep_dropoff_datetime\"].dt.day\n",
    "\n",
    "#extract hour\n",
    "con_data_val[\"hour_dropoff\"]= con_data_val[\"lpep_dropoff_datetime\"].dt.hour \n",
    "\n",
    "con_data_val =con_data_val.sort_values(by = \"lpep_dropoff_datetime\",ascending = True)\n",
    "\n",
    "#####################\n",
    "\n",
    "# for test\n",
    "\n",
    "#extract month\n",
    "con_data_test[\"month_dropoff\"] = pd.DatetimeIndex(con_data_test[\"lpep_dropoff_datetime\"]).month\n",
    "\n",
    "#extract week day \n",
    "con_data_test[\"week_day_dropoff\"]= con_data_test[\"lpep_dropoff_datetime\"].dt.weekday\n",
    "\n",
    "#extract day \n",
    "con_data_test[\"day_dropoff\"]= con_data_test[\"lpep_dropoff_datetime\"].dt.day\n",
    "\n",
    "#extract hour\n",
    "con_data_test[\"hour_dropoff\"]= con_data_test[\"lpep_dropoff_datetime\"].dt.hour \n",
    "\n",
    "con_data_test =con_data_test.sort_values(by = \"lpep_dropoff_datetime\",ascending = True)"
   ]
  },
  {
   "cell_type": "code",
   "execution_count": null,
   "id": "5SFERZ1DDPho",
   "metadata": {
    "colab": {
     "base_uri": "https://localhost:8080/"
    },
    "id": "5SFERZ1DDPho",
    "outputId": "3b2169cc-53bb-4f6d-e6d2-4f4c6e7e17e2"
   },
   "outputs": [],
   "source": [
    "con_data_train2.hour_pickup.unique()"
   ]
  },
  {
   "cell_type": "code",
   "execution_count": null,
   "id": "8_aIUOrmDui4",
   "metadata": {
    "colab": {
     "base_uri": "https://localhost:8080/"
    },
    "id": "8_aIUOrmDui4",
    "outputId": "fd6bb1fe-ed17-47c0-9852-6d95a49c81f1"
   },
   "outputs": [],
   "source": [
    "con_data_train2.week_day_pickup.unique()"
   ]
  },
  {
   "cell_type": "code",
   "execution_count": null,
   "id": "Rghya9rMltEC",
   "metadata": {
    "id": "Rghya9rMltEC"
   },
   "outputs": [],
   "source": [
    "# adding rush hours\n",
    "def rushhour(hour):\n",
    "    if hour in [5,6,7,8,17,18,19]:\n",
    "        return 1\n",
    "    else: return 0\n",
    " \n",
    "# apply method\n",
    "con_data_train2['rush_hour'] = con_data_train2.hour_pickup.apply(rushhour)\n",
    "con_data_val['rush_hour'] = con_data_val.hour_pickup.apply(rushhour)\n",
    "con_data_test['rush_hour'] = con_data_test.hour_pickup.apply(rushhour)\n",
    "\n",
    "#adding work days\n",
    "def workday(day):\n",
    "    if day in [0,1,2,3,4]:\n",
    "        return 1\n",
    "    else: return 0\n",
    "\n",
    "  # apply method\n",
    "con_data_train2['work_day'] = con_data_train2.week_day_pickup.apply(workday)\n",
    "con_data_val['work_day'] = con_data_val.week_day_pickup.apply(workday)\n",
    "con_data_test['work_day'] = con_data_test.week_day_pickup.apply(workday)\n"
   ]
  },
  {
   "cell_type": "code",
   "execution_count": null,
   "id": "51253d33",
   "metadata": {
    "colab": {
     "base_uri": "https://localhost:8080/",
     "height": 0
    },
    "id": "51253d33",
    "outputId": "30df7ba9-76f6-42c2-d05d-1285925417af"
   },
   "outputs": [],
   "source": [
    "con_data_train2.sample(10)"
   ]
  },
  {
   "cell_type": "code",
   "execution_count": null,
   "id": "c0ee2e90",
   "metadata": {
    "colab": {
     "base_uri": "https://localhost:8080/",
     "height": 0
    },
    "id": "c0ee2e90",
    "outputId": "a753316b-8564-41ff-e2f7-961958d615f2",
    "scrolled": true
   },
   "outputs": [],
   "source": [
    "con_data_val.head()"
   ]
  },
  {
   "cell_type": "code",
   "execution_count": null,
   "id": "a477e927",
   "metadata": {
    "colab": {
     "base_uri": "https://localhost:8080/",
     "height": 0
    },
    "id": "a477e927",
    "outputId": "f2dba252-d748-4a3b-ce56-b2bb5cbd73ed"
   },
   "outputs": [],
   "source": [
    "con_data_test.head()"
   ]
  },
  {
   "cell_type": "code",
   "execution_count": null,
   "id": "4ffa506b",
   "metadata": {
    "colab": {
     "base_uri": "https://localhost:8080/"
    },
    "id": "4ffa506b",
    "outputId": "ad93ecff-b443-475c-c8e5-f4c79aab57e3"
   },
   "outputs": [],
   "source": [
    "con_data_train2.columns"
   ]
  },
  {
   "cell_type": "code",
   "execution_count": null,
   "id": "24295a10",
   "metadata": {
    "colab": {
     "base_uri": "https://localhost:8080/"
    },
    "id": "24295a10",
    "outputId": "b3a86783-92d4-451a-fc95-b8c64f7ec27a"
   },
   "outputs": [],
   "source": [
    "con_data_val.columns"
   ]
  },
  {
   "cell_type": "code",
   "execution_count": null,
   "id": "437a8a3e",
   "metadata": {
    "colab": {
     "base_uri": "https://localhost:8080/"
    },
    "id": "437a8a3e",
    "outputId": "1895b5ee-1dea-4e69-9bf9-a6f5d33a1d0a"
   },
   "outputs": [],
   "source": [
    "con_data_test.columns"
   ]
  },
  {
   "cell_type": "code",
   "execution_count": null,
   "id": "23558b96",
   "metadata": {
    "id": "23558b96"
   },
   "outputs": [],
   "source": [
    "#### Clean outliers for time ####\n",
    "\n",
    "\n",
    "#### for train ####\n",
    "\n",
    "date = pd.Timestamp(2021,1,1)\n",
    "con_data_train2 = con_data_train2[con_data_train2['lpep_pickup_datetime'] >= date ]\n",
    "\n",
    "date = pd.Timestamp(2021,2,28)\n",
    "con_data_train2 = con_data_train2[con_data_train2['lpep_pickup_datetime'] <= date ]\n",
    "\n",
    "\n",
    "#### for val ####\n",
    "\n",
    "date = pd.Timestamp(2021,1,1)\n",
    "con_data_val = con_data_val[con_data_val['lpep_pickup_datetime'] >= date ]\n",
    "\n",
    "date = pd.Timestamp(2021,2,28)\n",
    "con_data_val = con_data_val[con_data_val['lpep_pickup_datetime'] <= date ]\n",
    "\n",
    "\n",
    "#### for test ####\n",
    "\n",
    "date = pd.Timestamp(2021,1,1)\n",
    "con_data_test = con_data_test[con_data_test['lpep_pickup_datetime'] >= date ]\n",
    "\n",
    "date = pd.Timestamp(2021,2,28)\n",
    "con_data_test = con_data_test[con_data_test['lpep_pickup_datetime'] <= date ]"
   ]
  },
  {
   "cell_type": "code",
   "execution_count": null,
   "id": "2b6f3176",
   "metadata": {
    "id": "2b6f3176"
   },
   "outputs": [],
   "source": [
    "# drop datetime columns for train \n",
    "con_data_train2= con_data_train2.drop(['lpep_pickup_datetime','lpep_dropoff_datetime'],axis =1)\n",
    "# drop datetime columns for val \n",
    "con_data_val= con_data_val.drop(['lpep_pickup_datetime','lpep_dropoff_datetime'],axis =1)\n",
    "# drop datetime columns for test \n",
    "con_data_test= con_data_test.drop(['lpep_pickup_datetime','lpep_dropoff_datetime'],axis =1)"
   ]
  },
  {
   "cell_type": "markdown",
   "id": "wobMzjPJhASw",
   "metadata": {
    "id": "wobMzjPJhASw"
   },
   "source": [
    "---\n",
    "## Data Pre-Processing"
   ]
  },
  {
   "cell_type": "code",
   "execution_count": null,
   "id": "37828c33",
   "metadata": {
    "colab": {
     "base_uri": "https://localhost:8080/"
    },
    "id": "37828c33",
    "outputId": "6d639a57-4b2b-4147-ae10-788bd26a158a",
    "scrolled": false
   },
   "outputs": [],
   "source": [
    "con_data_train2.isna().sum()"
   ]
  },
  {
   "cell_type": "code",
   "execution_count": null,
   "id": "cf96a2eb",
   "metadata": {
    "colab": {
     "base_uri": "https://localhost:8080/"
    },
    "id": "cf96a2eb",
    "outputId": "7f3bab6a-7527-4383-9458-9f216f91eb17"
   },
   "outputs": [],
   "source": [
    "con_data_val.isna().sum()"
   ]
  },
  {
   "cell_type": "code",
   "execution_count": null,
   "id": "89f821d0",
   "metadata": {
    "colab": {
     "base_uri": "https://localhost:8080/"
    },
    "id": "89f821d0",
    "outputId": "215bf095-f141-48cb-ea66-5d5fbf950a82"
   },
   "outputs": [],
   "source": [
    "con_data_test.isna().sum()"
   ]
  },
  {
   "cell_type": "code",
   "execution_count": null,
   "id": "0e8b1377",
   "metadata": {
    "id": "0e8b1377"
   },
   "outputs": [],
   "source": [
    "# drop columns for Train\n",
    "con_data_train2.drop(columns=['ehail_fee'], inplace=True)\n",
    "\n",
    "# drop columns for Val\n",
    "con_data_val.drop(columns=['ehail_fee'], inplace=True)\n",
    "\n",
    "# drop columns for test\n",
    "con_data_test.drop(columns=['ehail_fee'], inplace=True)"
   ]
  },
  {
   "cell_type": "code",
   "execution_count": null,
   "id": "ab4ff085",
   "metadata": {
    "colab": {
     "base_uri": "https://localhost:8080/"
    },
    "id": "ab4ff085",
    "outputId": "7bdefb8e-0b92-4470-8446-c8fd1e1f6baa"
   },
   "outputs": [],
   "source": [
    "con_data_val.isna().sum()"
   ]
  },
  {
   "cell_type": "code",
   "execution_count": null,
   "id": "3617c841",
   "metadata": {
    "colab": {
     "base_uri": "https://localhost:8080/",
     "height": 0
    },
    "id": "3617c841",
    "outputId": "166ae43f-c409-4a4e-fa31-5923d37c4f8c"
   },
   "outputs": [],
   "source": [
    "#### for train ####\n",
    "\n",
    "duplicate = con_data_train2.duplicated()\n",
    "print(duplicate.sum())\n",
    "con_data_train2[duplicate]"
   ]
  },
  {
   "cell_type": "code",
   "execution_count": null,
   "id": "12e3f822",
   "metadata": {
    "id": "12e3f822"
   },
   "outputs": [],
   "source": [
    "#### for train ####\n",
    "\n",
    "# drop duplicates rows\n",
    "con_data_train2.drop_duplicates(inplace=True)"
   ]
  },
  {
   "cell_type": "code",
   "execution_count": null,
   "id": "d32aa2e9",
   "metadata": {
    "colab": {
     "base_uri": "https://localhost:8080/",
     "height": 0
    },
    "id": "d32aa2e9",
    "outputId": "192aae1d-4e26-4769-a28e-472ba96c00f9"
   },
   "outputs": [],
   "source": [
    "#### for val ####\n",
    "\n",
    "duplicate = con_data_val.duplicated()\n",
    "print(duplicate.sum())\n",
    "con_data_val[duplicate]"
   ]
  },
  {
   "cell_type": "code",
   "execution_count": null,
   "id": "2020eb55",
   "metadata": {
    "id": "2020eb55"
   },
   "outputs": [],
   "source": [
    "#### for val ####\n",
    "\n",
    "# drop duplicates rows\n",
    "con_data_val.drop_duplicates(inplace=True)"
   ]
  },
  {
   "cell_type": "code",
   "execution_count": null,
   "id": "9df39c45",
   "metadata": {
    "colab": {
     "base_uri": "https://localhost:8080/",
     "height": 0
    },
    "id": "9df39c45",
    "outputId": "b4c47cae-3402-4970-e256-baae59f89bd6"
   },
   "outputs": [],
   "source": [
    "#### for test ####\n",
    "\n",
    "duplicate = con_data_test.duplicated()\n",
    "print(duplicate.sum())\n",
    "con_data_test[duplicate]"
   ]
  },
  {
   "cell_type": "code",
   "execution_count": null,
   "id": "80e6e0f5",
   "metadata": {
    "id": "80e6e0f5"
   },
   "outputs": [],
   "source": [
    "#### for test ####\n",
    "\n",
    "# drop duplicates rows\n",
    "con_data_test.drop_duplicates(inplace=True)"
   ]
  },
  {
   "cell_type": "code",
   "execution_count": null,
   "id": "648d3782",
   "metadata": {
    "id": "648d3782"
   },
   "outputs": [],
   "source": [
    "#### fill nulls ####\n",
    "\n",
    "# drop null in rows for Train\n",
    "con_data_train2 = con_data_train2.dropna()\n",
    "\n",
    "# drop null in rows for Val\n",
    "con_data_val = con_data_val.dropna()\n",
    "\n",
    "# drop null in rows for test\n",
    "con_data_test = con_data_test.dropna()"
   ]
  },
  {
   "cell_type": "code",
   "execution_count": null,
   "id": "99482eaa",
   "metadata": {
    "colab": {
     "base_uri": "https://localhost:8080/",
     "height": 0
    },
    "id": "99482eaa",
    "outputId": "f7f8534f-503f-41f8-fe1d-a906aa44d43d"
   },
   "outputs": [],
   "source": [
    "con_data_train2.describe().transpose()"
   ]
  },
  {
   "cell_type": "code",
   "execution_count": null,
   "id": "ktRi-to9_5VH",
   "metadata": {
    "colab": {
     "base_uri": "https://localhost:8080/"
    },
    "id": "ktRi-to9_5VH",
    "outputId": "24fa8b43-aa86-45e6-f0be-d6fc5ce4c519"
   },
   "outputs": [],
   "source": [
    "con_data_train2['passenger_count'].value_counts()"
   ]
  },
  {
   "cell_type": "code",
   "execution_count": null,
   "id": "oCuGocZpAr1I",
   "metadata": {
    "colab": {
     "base_uri": "https://localhost:8080/"
    },
    "id": "oCuGocZpAr1I",
    "outputId": "b04b768f-737d-4ce6-dd8c-447c3c4261a0"
   },
   "outputs": [],
   "source": [
    "con_data_train2['trip_distance'].value_counts()"
   ]
  },
  {
   "cell_type": "code",
   "execution_count": null,
   "id": "-uitdstGAtjR",
   "metadata": {
    "colab": {
     "base_uri": "https://localhost:8080/"
    },
    "id": "-uitdstGAtjR",
    "outputId": "1a487ddb-01cd-486b-fd7f-dac53910aa62"
   },
   "outputs": [],
   "source": [
    "con_data_train2['trip_distance'].nlargest(10)"
   ]
  },
  {
   "cell_type": "code",
   "execution_count": null,
   "id": "WFJEYaVEAxhS",
   "metadata": {
    "colab": {
     "base_uri": "https://localhost:8080/"
    },
    "id": "WFJEYaVEAxhS",
    "outputId": "122c7319-2583-405c-e81d-41790e131757"
   },
   "outputs": [],
   "source": [
    "con_data_train2['fare_amount'].value_counts()"
   ]
  },
  {
   "cell_type": "code",
   "execution_count": null,
   "id": "Q9xB14iiA18m",
   "metadata": {
    "colab": {
     "base_uri": "https://localhost:8080/"
    },
    "id": "Q9xB14iiA18m",
    "outputId": "066d2e85-63dc-456b-92ec-ffd567b747ea"
   },
   "outputs": [],
   "source": [
    "con_data_train2['payment_type'].value_counts()"
   ]
  },
  {
   "cell_type": "code",
   "execution_count": null,
   "id": "uL0a_cq4TEQU",
   "metadata": {
    "colab": {
     "base_uri": "https://localhost:8080/"
    },
    "id": "uL0a_cq4TEQU",
    "outputId": "82cd5832-c223-4858-a204-1c0eed176f58"
   },
   "outputs": [],
   "source": [
    "con_data_train2['total_amount'].value_counts()"
   ]
  },
  {
   "cell_type": "code",
   "execution_count": null,
   "id": "1bba06c9",
   "metadata": {
    "id": "1bba06c9"
   },
   "outputs": [],
   "source": [
    "#### passenger_count outliers ####\n",
    "\n",
    "# Remove passenger_count outliers for Train\n",
    "con_data_train2 = con_data_train2[con_data_train2['passenger_count']>0]\n",
    "con_data_train2 = con_data_train2[con_data_train2['passenger_count']<7]\n",
    "\n",
    "# Remove passenger_count outliers for val\n",
    "con_data_val = con_data_val[con_data_val['passenger_count']>0]\n",
    "con_data_val = con_data_val[con_data_val['passenger_count']<7]\n",
    "\n",
    "# Remove passenger_count outliers for test\n",
    "con_data_test = con_data_test[con_data_test['passenger_count']>0]\n",
    "con_data_test = con_data_test[con_data_test['passenger_count']<7]\n",
    "\n",
    "\n",
    "\n",
    "#### zero distance trips ####\n",
    "\n",
    "# removing zero distance trips for Train\n",
    "con_data_train2 = con_data_train2[con_data_train2['trip_distance'] > 0]\n",
    "con_data_train2 = con_data_train2[con_data_train2['trip_distance'] <= 200]\n",
    "\n",
    "# removing zero distance trips for val\n",
    "con_data_val = con_data_val[con_data_val['trip_distance'] > 0]\n",
    "con_data_val = con_data_val[con_data_val['trip_distance'] <= 200]\n",
    "\n",
    "# removing zero distance trips for test\n",
    "con_data_test = con_data_test[con_data_test['trip_distance'] > 0]\n",
    "con_data_test = con_data_test[con_data_test['trip_distance'] <= 200]\n",
    "\n",
    "\n",
    "\n",
    "#### zero/negative fares ####\n",
    "\n",
    "# removing trips with zero/negative fares for Train\n",
    "con_data_train2= con_data_train2[con_data_train2['fare_amount'] > 0]\n",
    "con_data_train2= con_data_train2[con_data_train2['total_amount'] > 0]\n",
    "\n",
    "# removing trips with zero/negative fares for val\n",
    "con_data_val= con_data_val[con_data_val['fare_amount'] > 0]\n",
    "con_data_val= con_data_val[con_data_val['total_amount'] > 0]\n",
    "\n",
    "# removing trips with zero/negative fares for test\n",
    "con_data_test= con_data_test[con_data_test['fare_amount'] > 0]\n",
    "con_data_test= con_data_test[con_data_test['total_amount'] > 0]\n",
    "\n",
    "\n",
    "\n",
    "#### payment type ####\n",
    "\n",
    "# removing payment type more than 4 for Train\n",
    "con_data_train2= con_data_train2[con_data_train2['payment_type'] <= 4]\n",
    "\n",
    "# removing payment type more than 4 for val\n",
    "con_data_val= con_data_val[con_data_val['payment_type'] <= 4]\n",
    "\n",
    "# removing payment type more than 4 for test\n",
    "con_data_test= con_data_test[con_data_test['payment_type'] <= 4]"
   ]
  },
  {
   "cell_type": "code",
   "execution_count": null,
   "id": "87ef0701",
   "metadata": {
    "colab": {
     "base_uri": "https://localhost:8080/"
    },
    "id": "87ef0701",
    "outputId": "76285f8c-5f6f-443c-b46c-e68837a8ded1"
   },
   "outputs": [],
   "source": [
    "con_data_train2.info()"
   ]
  },
  {
   "cell_type": "code",
   "execution_count": null,
   "id": "3693a8c1",
   "metadata": {
    "colab": {
     "base_uri": "https://localhost:8080/"
    },
    "id": "3693a8c1",
    "outputId": "ea50d7fe-1192-4ab7-b853-6ec351bb7e8c",
    "scrolled": false
   },
   "outputs": [],
   "source": [
    "con_data_val.info()"
   ]
  },
  {
   "cell_type": "code",
   "execution_count": null,
   "id": "15c7e064",
   "metadata": {
    "colab": {
     "base_uri": "https://localhost:8080/"
    },
    "id": "15c7e064",
    "outputId": "90bc556a-4595-4e45-e830-5c8f3cef3bef"
   },
   "outputs": [],
   "source": [
    "con_data_test.info()"
   ]
  },
  {
   "cell_type": "markdown",
   "id": "fd346eb4",
   "metadata": {
    "id": "fd346eb4"
   },
   "source": [
    "---\n",
    "## Get Dummies "
   ]
  },
  {
   "cell_type": "code",
   "execution_count": null,
   "id": "b4c9ceed",
   "metadata": {
    "colab": {
     "base_uri": "https://localhost:8080/"
    },
    "id": "b4c9ceed",
    "outputId": "733227e8-93b4-4a24-8b0c-ae5b70d97506"
   },
   "outputs": [],
   "source": [
    "con_data_train2.shape"
   ]
  },
  {
   "cell_type": "code",
   "execution_count": null,
   "id": "6bd546cc",
   "metadata": {
    "colab": {
     "base_uri": "https://localhost:8080/"
    },
    "id": "6bd546cc",
    "outputId": "36690bae-fab0-4f6f-8d06-2ac322b69ff2"
   },
   "outputs": [],
   "source": [
    "con_data_val.shape"
   ]
  },
  {
   "cell_type": "code",
   "execution_count": null,
   "id": "192d46d6",
   "metadata": {
    "colab": {
     "base_uri": "https://localhost:8080/"
    },
    "id": "192d46d6",
    "outputId": "f281d5f5-ba1d-47ec-ed46-ed2c7a85e223"
   },
   "outputs": [],
   "source": [
    "con_data_test.shape"
   ]
  },
  {
   "cell_type": "code",
   "execution_count": null,
   "id": "0d6527cf",
   "metadata": {
    "colab": {
     "base_uri": "https://localhost:8080/"
    },
    "id": "0d6527cf",
    "outputId": "85e49221-11d0-4293-f6c5-0e6a7c09922e"
   },
   "outputs": [],
   "source": [
    "con_data_train2['store_and_fwd_flag'].dtypes"
   ]
  },
  {
   "cell_type": "code",
   "execution_count": null,
   "id": "konm_p7QzP2D",
   "metadata": {
    "colab": {
     "base_uri": "https://localhost:8080/"
    },
    "id": "konm_p7QzP2D",
    "outputId": "a295f36b-18e0-49a5-f94b-b0608359cec1"
   },
   "outputs": [],
   "source": [
    "con_data_train2['RatecodeID'].value_counts()"
   ]
  },
  {
   "cell_type": "code",
   "execution_count": null,
   "id": "58fSWcVgzwyc",
   "metadata": {
    "colab": {
     "base_uri": "https://localhost:8080/"
    },
    "id": "58fSWcVgzwyc",
    "outputId": "ee1a23cc-fc3d-44d9-89df-8cda9786569b"
   },
   "outputs": [],
   "source": [
    "con_data_val['RatecodeID'].value_counts()"
   ]
  },
  {
   "cell_type": "code",
   "execution_count": null,
   "id": "ggt_djVwz00o",
   "metadata": {
    "colab": {
     "base_uri": "https://localhost:8080/"
    },
    "id": "ggt_djVwz00o",
    "outputId": "c486b5ef-d44a-434c-e57d-d55909b831d9"
   },
   "outputs": [],
   "source": [
    "con_data_test['RatecodeID'].value_counts()"
   ]
  },
  {
   "cell_type": "code",
   "execution_count": null,
   "id": "9t4tZAWJzeL7",
   "metadata": {
    "id": "9t4tZAWJzeL7"
   },
   "outputs": [],
   "source": [
    "# RatecodeID type conversion to get dummies\n",
    "con_data_train2['RatecodeID'] = con_data_train2.RatecodeID.astype('category')\n",
    "con_data_val['RatecodeID'] = con_data_val.RatecodeID.astype('category')\n",
    "con_data_test['RatecodeID'] = con_data_test.RatecodeID.astype('category')"
   ]
  },
  {
   "cell_type": "code",
   "execution_count": null,
   "id": "-23deBxr2mXb",
   "metadata": {
    "colab": {
     "base_uri": "https://localhost:8080/"
    },
    "id": "-23deBxr2mXb",
    "outputId": "02b0478a-4cca-4b20-cae0-a7df31b87a48"
   },
   "outputs": [],
   "source": [
    "con_data_train2['payment_type'].value_counts()"
   ]
  },
  {
   "cell_type": "code",
   "execution_count": null,
   "id": "6GlhdEfi27CX",
   "metadata": {
    "colab": {
     "base_uri": "https://localhost:8080/"
    },
    "id": "6GlhdEfi27CX",
    "outputId": "fb7fb8d5-3eba-4fdd-ac6f-98d48e5432a0"
   },
   "outputs": [],
   "source": [
    "con_data_val['payment_type'].value_counts()"
   ]
  },
  {
   "cell_type": "code",
   "execution_count": null,
   "id": "ZuxIqAef2_ZI",
   "metadata": {
    "colab": {
     "base_uri": "https://localhost:8080/"
    },
    "id": "ZuxIqAef2_ZI",
    "outputId": "24f0383c-caf4-41bf-9703-e0c658b9f196"
   },
   "outputs": [],
   "source": [
    "con_data_test['payment_type'].value_counts()"
   ]
  },
  {
   "cell_type": "code",
   "execution_count": null,
   "id": "P7dgMP5B2X7q",
   "metadata": {
    "id": "P7dgMP5B2X7q"
   },
   "outputs": [],
   "source": [
    "# payment_type type conversion to get dummies\n",
    "con_data_train2['payment_type'] = con_data_train2.payment_type.astype('category')\n",
    "con_data_val['payment_type'] = con_data_val.payment_type.astype('category')\n",
    "con_data_test['payment_type'] = con_data_test.payment_type.astype('category')"
   ]
  },
  {
   "cell_type": "code",
   "execution_count": null,
   "id": "35466352",
   "metadata": {
    "id": "35466352"
   },
   "outputs": [],
   "source": [
    "# get dummies for train \n",
    "con_data_train2 = pd.get_dummies(con_data_train2)\n",
    "\n",
    "# get dummies for val \n",
    "con_data_val = pd.get_dummies(con_data_val)\n",
    "\n",
    "# get dummies for test \n",
    "con_data_test = pd.get_dummies(con_data_test)"
   ]
  },
  {
   "cell_type": "code",
   "execution_count": null,
   "id": "c47371ab",
   "metadata": {
    "colab": {
     "base_uri": "https://localhost:8080/"
    },
    "id": "c47371ab",
    "outputId": "291d5381-3265-4104-eed6-edb2cdcc163f"
   },
   "outputs": [],
   "source": [
    "con_data_train2.shape"
   ]
  },
  {
   "cell_type": "code",
   "execution_count": null,
   "id": "3149b8da",
   "metadata": {
    "colab": {
     "base_uri": "https://localhost:8080/"
    },
    "id": "3149b8da",
    "outputId": "572f8b91-6748-4cfe-f07b-919e6957766b"
   },
   "outputs": [],
   "source": [
    "con_data_val.shape"
   ]
  },
  {
   "cell_type": "code",
   "execution_count": null,
   "id": "063147ce",
   "metadata": {
    "colab": {
     "base_uri": "https://localhost:8080/"
    },
    "id": "063147ce",
    "outputId": "82e83152-57f8-49cf-911d-4f9c8b7cb8ab"
   },
   "outputs": [],
   "source": [
    "con_data_test.shape"
   ]
  },
  {
   "cell_type": "code",
   "execution_count": null,
   "id": "d17602d4",
   "metadata": {
    "colab": {
     "base_uri": "https://localhost:8080/"
    },
    "id": "d17602d4",
    "outputId": "64c0f6a8-c254-4ff6-a274-31b522965242"
   },
   "outputs": [],
   "source": [
    "con_data_train2.columns"
   ]
  },
  {
   "cell_type": "code",
   "execution_count": null,
   "id": "af50f3a8",
   "metadata": {
    "colab": {
     "base_uri": "https://localhost:8080/"
    },
    "id": "af50f3a8",
    "outputId": "40ebad92-c0b7-49ac-e3e5-0c89a777ec44",
    "scrolled": true
   },
   "outputs": [],
   "source": [
    "con_data_val.columns"
   ]
  },
  {
   "cell_type": "code",
   "execution_count": null,
   "id": "df164ec0",
   "metadata": {
    "colab": {
     "base_uri": "https://localhost:8080/"
    },
    "id": "df164ec0",
    "outputId": "692225a9-7676-4a8d-cd4b-72fc9a75a71f"
   },
   "outputs": [],
   "source": [
    "con_data_test.columns"
   ]
  },
  {
   "cell_type": "code",
   "execution_count": null,
   "id": "1a104202",
   "metadata": {
    "id": "1a104202"
   },
   "outputs": [],
   "source": [
    "# rename the columns for train\n",
    "con_data_train2.rename(columns={'store_and_fwd_flag_N': 'not_a_store_and_forward_trip',\n",
    "                         'store_and_fwd_flag_Y': 'store_and_forward_trip',\n",
    "                         'RatecodeID_1.0': 'standard_rate',\n",
    "                         'RatecodeID_2.0': 'JFK',\n",
    "                         'RatecodeID_3.0': 'newark',\n",
    "                         'RatecodeID_4.0': 'nassau_or_westchester',\n",
    "                         'RatecodeID_5.0': 'negotiated_fare',\n",
    "                         'payment_type_1.0': 'credit_card',\n",
    "                         'payment_type_2.0': 'cash',\n",
    "                         'payment_type_3.0': 'no_charge',\n",
    "                         'payment_type_4.0': 'dispute'\n",
    "                         }, inplace= True)\n",
    "\n",
    "\n",
    "\n",
    "# rename the columns for val\n",
    "con_data_val.rename(columns={'store_and_fwd_flag_N': 'not_a_store_and_forward_trip',\n",
    "                         'store_and_fwd_flag_Y': 'store_and_forward_trip',\n",
    "                         'RatecodeID_1.0': 'standard_rate',\n",
    "                         'RatecodeID_2.0': 'JFK',\n",
    "                         'RatecodeID_3.0': 'newark',\n",
    "                         'RatecodeID_4.0': 'nassau_or_westchester',\n",
    "                         'RatecodeID_5.0': 'negotiated_fare',\n",
    "                         'payment_type_1.0': 'credit_card',\n",
    "                         'payment_type_2.0': 'cash',\n",
    "                         'payment_type_3.0': 'no_charge',\n",
    "                         'payment_type_4.0': 'dispute'\n",
    "                         }, inplace= True)\n",
    "\n",
    "\n",
    "# rename the columns for test\n",
    "con_data_test.rename(columns={'store_and_fwd_flag_N': 'not_a_store_and_forward_trip',\n",
    "                         'store_and_fwd_flag_Y': 'store_and_forward_trip',\n",
    "                         'RatecodeID_1.0': 'standard_rate',\n",
    "                         'RatecodeID_2.0': 'JFK',\n",
    "                         'RatecodeID_3.0': 'newark',\n",
    "                         'RatecodeID_4.0': 'nassau_or_westchester',\n",
    "                         'RatecodeID_5.0': 'negotiated_fare',\n",
    "                         'payment_type_1.0': 'credit_card',\n",
    "                         'payment_type_2.0': 'cash',\n",
    "                         'payment_type_3.0': 'no_charge',\n",
    "                         'payment_type_4.0': 'dispute'\n",
    "                         }, inplace= True)"
   ]
  },
  {
   "cell_type": "code",
   "execution_count": null,
   "id": "ca601090",
   "metadata": {
    "colab": {
     "base_uri": "https://localhost:8080/",
     "height": 0
    },
    "id": "ca601090",
    "outputId": "d2adca37-bbfa-422a-c516-45666299a3a8"
   },
   "outputs": [],
   "source": [
    "con_data_train2.sample(7)"
   ]
  },
  {
   "cell_type": "code",
   "execution_count": null,
   "id": "35c2f9dc",
   "metadata": {
    "colab": {
     "base_uri": "https://localhost:8080/",
     "height": 0
    },
    "id": "35c2f9dc",
    "outputId": "f451c9c2-bc5b-48ad-9d43-c0ad9c25e9b3"
   },
   "outputs": [],
   "source": [
    "con_data_val.sample(7)"
   ]
  },
  {
   "cell_type": "code",
   "execution_count": null,
   "id": "a54d5379",
   "metadata": {
    "colab": {
     "base_uri": "https://localhost:8080/",
     "height": 0
    },
    "id": "a54d5379",
    "outputId": "059218fd-d053-473f-d5cc-26899e63cf0b"
   },
   "outputs": [],
   "source": [
    "con_data_test.sample(7)"
   ]
  },
  {
   "cell_type": "markdown",
   "id": "yYueC3MuRs_V",
   "metadata": {
    "id": "yYueC3MuRs_V"
   },
   "source": [
    "---\n",
    "## Sample data for modling"
   ]
  },
  {
   "cell_type": "code",
   "execution_count": null,
   "id": "zUBHo0LZRqdc",
   "metadata": {
    "id": "zUBHo0LZRqdc"
   },
   "outputs": [],
   "source": [
    "train_sample = con_data_train2[[ 'passenger_count'\t,'improvement_surcharge','congestion_surcharge',\n",
    "                   'week_day_pickup','hour_pickup','work_day','trip_distance',\n",
    "                   'store_and_forward_trip',\n",
    "                   'standard_rate','JFK','newark','nassau_or_westchester','negotiated_fare',\n",
    "                   'credit_card', 'cash', 'no_charge', 'dispute'\n",
    "                   ]]\n",
    "val_sample = con_data_val[['passenger_count'\t,'improvement_surcharge', 'congestion_surcharge',\n",
    "                   'week_day_pickup','hour_pickup','work_day','trip_distance',\n",
    "                   'store_and_forward_trip',\n",
    "                   'standard_rate','JFK','newark','nassau_or_westchester','negotiated_fare',\n",
    "                   'credit_card', 'cash', 'no_charge', 'dispute'\n",
    "                   ]]\n",
    "test_sample = con_data_test[[ 'passenger_count'\t,'improvement_surcharge','congestion_surcharge',\n",
    "                   'week_day_pickup','hour_pickup','work_day','trip_distance',\n",
    "                   'store_and_forward_trip',\n",
    "                   'standard_rate','JFK','newark','nassau_or_westchester','negotiated_fare',\n",
    "                   'credit_card', 'cash', 'no_charge', 'dispute'\n",
    "                   ]]"
   ]
  },
  {
   "cell_type": "markdown",
   "id": "588d31a1",
   "metadata": {
    "id": "588d31a1"
   },
   "source": [
    "---\n",
    "## Visualize data"
   ]
  },
  {
   "cell_type": "code",
   "execution_count": null,
   "id": "6e22ed64",
   "metadata": {
    "colab": {
     "base_uri": "https://localhost:8080/",
     "height": 535
    },
    "id": "6e22ed64",
    "outputId": "a70fcf4b-dd74-4c43-f262-0277a7562303"
   },
   "outputs": [],
   "source": [
    "# frequency of fare_amount\n",
    "plt.figure(figsize=(8, 6))\n",
    "sns.histplot(con_data_train2['fare_amount'], bins = 75, color ='#533e98' , stat='density', kde=True)\n",
    "plt.title('Fare Distribution');\n",
    "plt.xlabel('Fare Amount');\n",
    "plt.grid(axis='y', lw = 0.25);\n",
    "# plt.savefig('plot1.png', dpi = 300, bbox_inches = 'tight');"
   ]
  },
  {
   "cell_type": "code",
   "execution_count": null,
   "id": "dOqRfOZeGf20",
   "metadata": {
    "id": "dOqRfOZeGf20"
   },
   "outputs": [],
   "source": [
    "#create new variable log of fare amount\n",
    "con_data_train2[\"log_fare_amount\"] = np.log(con_data_train2[\"fare_amount\"])"
   ]
  },
  {
   "cell_type": "code",
   "execution_count": null,
   "id": "yKs63OSECq1A",
   "metadata": {
    "colab": {
     "base_uri": "https://localhost:8080/",
     "height": 463
    },
    "id": "yKs63OSECq1A",
    "outputId": "757540a6-ab56-4003-b399-670193ce52bb"
   },
   "outputs": [],
   "source": [
    "plt.figure(figsize = (8,5))\n",
    "sns.distplot(con_data_train2[\"log_fare_amount\"],color ='#533e98')\n",
    "plt.axvline(con_data_train2[\"log_fare_amount\"].mean(),color = \"k\",\n",
    "            linestyle = \"dashed\",label = \"Avg fare amount\")\n",
    "plt.title(\"Distribution in log of fare amount\")\n",
    "plt.legend(loc = \"best\",prop = {\"size\" : 12});\n",
    "# plt.savefig('plot2.png', dpi = 300, bbox_inches = 'tight');"
   ]
  },
  {
   "cell_type": "code",
   "execution_count": null,
   "id": "0fb3bc67",
   "metadata": {
    "colab": {
     "base_uri": "https://localhost:8080/",
     "height": 1000
    },
    "id": "0fb3bc67",
    "outputId": "3fcc8620-2ec7-4904-9610-bba3a3bf58e2"
   },
   "outputs": [],
   "source": [
    "fig1=plt.figure(figsize=(8, 6))\n",
    "ax1=fig1.add_subplot(1,1,1)\n",
    "ax1.scatter(con_data_train2.trip_distance, con_data_train2.fare_amount, color='#533e98',alpha=0.1)\n",
    "ax1.set_title('The graph of payment depending on the trip distance')\n",
    "ax1.set_xlabel('Distance')\n",
    "ax1.set_ylabel('Payment');\n",
    "\n",
    "fig2= plt.figure(figsize=(8, 6))\n",
    "ax2= fig2.add_subplot(1,1,1)\n",
    "ax2.scatter(con_data_train2.passenger_count, con_data_train2.fare_amount, color='#c15a3a',alpha=0.1)\n",
    "ax2.set_title('The graph of payment depending on the number of passengers');\n",
    "ax2.set_xlabel('Number of passengers')\n",
    "ax2.set_ylabel('Payment');\n",
    "# plt.savefig('plot3.png', dpi = 300, bbox_inches = 'tight');"
   ]
  },
  {
   "cell_type": "code",
   "execution_count": null,
   "id": "rFX2OAnbvbzx",
   "metadata": {
    "colab": {
     "base_uri": "https://localhost:8080/"
    },
    "id": "rFX2OAnbvbzx",
    "outputId": "a4b1c680-7632-4ce8-b36c-a1c90221a0b6"
   },
   "outputs": [],
   "source": [
    "con_data_train2['passenger_count'].value_counts()"
   ]
  },
  {
   "cell_type": "code",
   "execution_count": null,
   "id": "a056a4be",
   "metadata": {
    "colab": {
     "base_uri": "https://localhost:8080/",
     "height": 710
    },
    "id": "a056a4be",
    "outputId": "9fa2a401-c87a-421d-9228-11033b781af1"
   },
   "outputs": [],
   "source": [
    "# passenger count in trips distribution\n",
    "plt.figure(figsize=(9, 19))\n",
    "pass_count = con_data_train2['passenger_count'].value_counts()\n",
    "c = ['#6f5e8f', '#c15a3a', '#ade5e1', '#11415f', '#dfb08b', '#92576e']\n",
    "plt.pie(pass_count,labels=None\n",
    "        , autopct=\"%0.1f%%\", pctdistance=1.15, colors=c);\n",
    "plt.legend(title = 'Passenger count:',\n",
    "           labels=['One person', 'Two persons','Five persons', 'Three persons', 'Six persons','Four persons']);\n",
    "# plt.savefig('plot4.png', dpi = 300, bbox_inches = 'tight');"
   ]
  },
  {
   "cell_type": "code",
   "execution_count": null,
   "id": "d8bb4c80",
   "metadata": {
    "colab": {
     "base_uri": "https://localhost:8080/",
     "height": 336
    },
    "id": "d8bb4c80",
    "outputId": "cc9ceee3-3ecb-4bd6-ebb8-34c81b34da0d",
    "scrolled": true
   },
   "outputs": [],
   "source": [
    "# taxi trip repartition by hour of the day\n",
    "plt.figure(figsize=(8,6));\n",
    "sns.catplot(x='hour_pickup', kind='count', palette='icefire', data=con_data_train2, height=3, aspect=3);\n",
    "plt.title('Hour of Day');\n",
    "# plt.savefig('plot5.png', dpi = 300, bbox_inches = 'tight');"
   ]
  },
  {
   "cell_type": "code",
   "execution_count": null,
   "id": "5PojlzPKYX-4",
   "metadata": {
    "colab": {
     "base_uri": "https://localhost:8080/",
     "height": 535
    },
    "id": "5PojlzPKYX-4",
    "outputId": "eb5e5564-577e-44cd-ad2a-f1c16226ae6f"
   },
   "outputs": [],
   "source": [
    "plt.figure(figsize=(8,6));\n",
    "sns.lineplot(data = con_data_train2, x='hour_pickup',y='total_amount',palette=['#6f5e8f', '#c15a3a'], hue='month_pickup')\n",
    "plt.xticks(np.arange(0, 24, 1))\n",
    "plt.legend(title = 'Pickup Months:',\n",
    "           labels=['January', 'February']);\n",
    "plt.xlabel('Pick Up Hours')\n",
    "plt.ylabel('Total Amount')\n",
    "plt.title('Rush Hour of Day Efficting on Payment in January and February');\n",
    "plt.grid(axis='both', lw = 0.25);\n",
    "# plt.savefig('plot6.png', dpi = 300, bbox_inches = 'tight');"
   ]
  },
  {
   "cell_type": "markdown",
   "id": "5a452289",
   "metadata": {
    "id": "5a452289"
   },
   "source": [
    "1. Does the number of passengers affect the fare?"
   ]
  },
  {
   "cell_type": "code",
   "execution_count": null,
   "id": "ec074b6e",
   "metadata": {
    "colab": {
     "base_uri": "https://localhost:8080/",
     "height": 516
    },
    "id": "ec074b6e",
    "outputId": "1e43fe4a-a590-448c-8234-051dbdab4fd7",
    "scrolled": false
   },
   "outputs": [],
   "source": [
    "plt.figure(figsize=(8,6))\n",
    "plt.hist(con_data_train2['passenger_count'], bins=100, color='#533e98' )\n",
    "plt.xlabel('No. of Passengers')\n",
    "plt.ylabel('Frequency');\n",
    "# plt.savefig('plot7.png', dpi = 300, bbox_inches = 'tight');"
   ]
  },
  {
   "cell_type": "code",
   "execution_count": null,
   "id": "524c2e6f",
   "metadata": {
    "colab": {
     "base_uri": "https://localhost:8080/",
     "height": 516
    },
    "id": "524c2e6f",
    "outputId": "400836ec-9016-47dd-9703-9075fe059a72"
   },
   "outputs": [],
   "source": [
    "plt.figure(figsize=(8,6))\n",
    "plt.scatter(x=con_data_train2['passenger_count'], y=con_data_train2['fare_amount'], s=10, color='#c15a3a',alpha=0.2)\n",
    "plt.xlabel('No. of Passengers')\n",
    "plt.ylabel('Fare');\n",
    "# plt.savefig('plot8.png', dpi = 300, bbox_inches = 'tight');"
   ]
  },
  {
   "cell_type": "markdown",
   "id": "fa9b234f",
   "metadata": {
    "id": "fa9b234f"
   },
   "source": [
    "2. Does the time of pickup affect the fare?"
   ]
  },
  {
   "cell_type": "code",
   "execution_count": null,
   "id": "10165579",
   "metadata": {
    "colab": {
     "base_uri": "https://localhost:8080/",
     "height": 516
    },
    "id": "10165579",
    "outputId": "9ac05486-f204-4672-da93-bcd24fb34a61"
   },
   "outputs": [],
   "source": [
    "plt.figure(figsize=(8,6))\n",
    "plt.hist(con_data_train2['hour_pickup'], bins=100, color='#533e98')\n",
    "plt.xlabel('Pickup Hour')\n",
    "plt.ylabel('Frequency');\n",
    "# plt.savefig('plot9.png', dpi = 300, bbox_inches = 'tight');"
   ]
  },
  {
   "cell_type": "code",
   "execution_count": null,
   "id": "6a932c85",
   "metadata": {
    "colab": {
     "base_uri": "https://localhost:8080/",
     "height": 516
    },
    "id": "6a932c85",
    "outputId": "ef8815f2-3b84-4121-dbf3-d6e154e43136"
   },
   "outputs": [],
   "source": [
    "plt.figure(figsize=(8,6))\n",
    "plt.scatter(x=con_data_train2['hour_pickup'], y=con_data_train2['fare_amount'], s=10, color='#c15a3a',alpha=0.2)\n",
    "plt.xlabel('Pickup Hour')\n",
    "plt.ylabel('Fare');\n",
    "# plt.savefig('plot10.png', dpi = 300, bbox_inches = 'tight');"
   ]
  },
  {
   "cell_type": "markdown",
   "id": "86d3c684",
   "metadata": {
    "id": "86d3c684"
   },
   "source": [
    "3. Does the day of the week affect the fare?"
   ]
  },
  {
   "cell_type": "code",
   "execution_count": null,
   "id": "f0e17c7d",
   "metadata": {
    "colab": {
     "base_uri": "https://localhost:8080/",
     "height": 516
    },
    "id": "f0e17c7d",
    "outputId": "06d40854-a827-4d4b-f661-3819adcf0900"
   },
   "outputs": [],
   "source": [
    "plt.figure(figsize=(8,6))\n",
    "positions = (0, 1, 2, 3, 4, 5, 6)\n",
    "labels = ('Mon','Tue','Wed','Thu','Fri','Sat','Sun')\n",
    "plt.xticks(positions,labels); \n",
    "plt.hist(con_data_train2['week_day_pickup'], bins=100, color='#533e98')\n",
    "plt.xlabel('Day pickup of Week')\n",
    "plt.ylabel('Frequency');\n",
    "# plt.savefig('plot11.png', dpi = 300, bbox_inches = 'tight');"
   ]
  },
  {
   "cell_type": "markdown",
   "id": "a407887c",
   "metadata": {
    "id": "a407887c"
   },
   "source": [
    " day of the week doesn't seem to have that much of an influence on the number of cab rides."
   ]
  },
  {
   "cell_type": "code",
   "execution_count": null,
   "id": "aec79d79",
   "metadata": {
    "colab": {
     "base_uri": "https://localhost:8080/",
     "height": 516
    },
    "id": "aec79d79",
    "outputId": "86b33d7f-8cfb-4b86-ad31-e4f4b13e9167",
    "scrolled": true
   },
   "outputs": [],
   "source": [
    "plt.figure(figsize=(8,6))\n",
    "positions = (0, 1, 2, 3, 4, 5, 6)\n",
    "labels = ('Mon','Tue','Wed','Thu','Fri','Sat','Sun')\n",
    "plt.xticks(positions,labels); \n",
    "plt.scatter(x=con_data_train2['week_day_pickup'], y=con_data_train2['fare_amount'], s=10, color='#c15a3a',alpha=0.2)\n",
    "plt.xlabel('Day pickup of Week')\n",
    "plt.ylabel('Fare');\n",
    "# plt.savefig('plot12.png', dpi = 300, bbox_inches = 'tight');"
   ]
  },
  {
   "cell_type": "markdown",
   "id": "skdd255VCKMv",
   "metadata": {
    "id": "skdd255VCKMv"
   },
   "source": [
    "---\n",
    "## Relation Between Features"
   ]
  },
  {
   "cell_type": "code",
   "execution_count": null,
   "id": "KLf7N_MTIaWa",
   "metadata": {
    "colab": {
     "base_uri": "https://localhost:8080/",
     "height": 0
    },
    "id": "KLf7N_MTIaWa",
    "outputId": "290494fd-b90d-4818-a876-225d45f1a206"
   },
   "outputs": [],
   "source": [
    "plt.rcParams[\"figure.figsize\"] = (20,18);\n",
    "\n",
    "# corr\n",
    "con_data_corr = con_data_train2.corr()\n",
    "\n",
    "# mask\n",
    "mask = np.triu(np.ones_like(con_data_corr, dtype=np.bool))\n",
    "\n",
    "# adjust mask and df\n",
    "mask = mask[1:, :-1]\n",
    "corr = con_data_corr.iloc[1:,:-1].copy()\n",
    "\n",
    "sns.heatmap(corr, cmap = 'icefire', annot = True, vmin= -1, vmax= 1, linewidths=1.5, fmt='.2f', mask=mask);\n",
    "plt.title('CORRELATION BETWEEN FEATURES\\n', loc='left', fontsize=18);\n",
    "# plt.savefig('plot13.png', dpi = 300, bbox_inches = 'tight');"
   ]
  },
  {
   "cell_type": "code",
   "execution_count": null,
   "id": "_j31I-WkCO8W",
   "metadata": {
    "colab": {
     "base_uri": "https://localhost:8080/"
    },
    "id": "_j31I-WkCO8W",
    "outputId": "0941a96d-ae4b-4a1b-8a16-2084cf038d4e"
   },
   "outputs": [],
   "source": [
    "con_data_corr = con_data_train2.corr()['fare_amount'][:-1] \n",
    "corr_features = con_data_corr[abs(con_data_corr) > 0.5].sort_values(ascending=False)\n",
    "print('Strongly correlated features with fare amount:\\n{}'.format(corr_features))"
   ]
  },
  {
   "cell_type": "markdown",
   "id": "f6485f8d",
   "metadata": {
    "id": "f6485f8d"
   },
   "source": [
    "---\n",
    "## Scaling\n",
    "scaling the features makes interpretation of regression coefficients easier"
   ]
  },
  {
   "cell_type": "code",
   "execution_count": null,
   "id": "ad9f21ea",
   "metadata": {
    "colab": {
     "base_uri": "https://localhost:8080/"
    },
    "id": "ad9f21ea",
    "outputId": "eb3c9f5b-313c-4466-b323-d603ec566500"
   },
   "outputs": [],
   "source": [
    "con_data_val.shape"
   ]
  },
  {
   "cell_type": "code",
   "execution_count": null,
   "id": "dc778062",
   "metadata": {
    "colab": {
     "base_uri": "https://localhost:8080/"
    },
    "id": "dc778062",
    "outputId": "249ed249-4d3e-4f77-d953-83e70cbc27db"
   },
   "outputs": [],
   "source": [
    "con_data_train2.shape"
   ]
  },
  {
   "cell_type": "code",
   "execution_count": null,
   "id": "UoVuMVaH-_YW",
   "metadata": {
    "colab": {
     "base_uri": "https://localhost:8080/"
    },
    "id": "UoVuMVaH-_YW",
    "outputId": "bda86bca-414d-4397-9e11-0d7520b874cd"
   },
   "outputs": [],
   "source": [
    "con_data_test.shape"
   ]
  },
  {
   "cell_type": "code",
   "execution_count": null,
   "id": "67fdac9c",
   "metadata": {
    "id": "67fdac9c"
   },
   "outputs": [],
   "source": [
    "scaler = StandardScaler()\n",
    "\n",
    "train_sample[train_sample.columns]=scaler.fit_transform(train_sample[train_sample.columns])\n",
    "val_sample[val_sample.columns]=scaler.transform(val_sample[val_sample.columns])\n",
    "test_sample[test_sample.columns]=scaler.transform(test_sample[test_sample.columns])\n",
    "\n"
   ]
  },
  {
   "cell_type": "code",
   "execution_count": null,
   "id": "PhsBljBEKhwl",
   "metadata": {
    "id": "PhsBljBEKhwl"
   },
   "outputs": [],
   "source": [
    "X_train=train_sample\n",
    "y_train=con_data_train2['fare_amount']\n",
    "X_val=val_sample\n",
    "y_val=con_data_val['fare_amount']\n",
    "X_test=test_sample\n",
    "y_test=con_data_test['fare_amount']"
   ]
  },
  {
   "cell_type": "code",
   "execution_count": null,
   "id": "902f40f9",
   "metadata": {
    "colab": {
     "base_uri": "https://localhost:8080/"
    },
    "id": "902f40f9",
    "outputId": "7448dd43-fe8b-4edd-b3c6-b0a3619f6390"
   },
   "outputs": [],
   "source": [
    "print(\"Length of the X_train = \",len(X_train))\n",
    "print(\"Length of the y_train = \",len(y_train))\n",
    "print(\"Length of the X_test = \",len(X_test))\n",
    "print(\"Length of the y_test = \",len(y_test))\n",
    "print(\"Length of the y_val = \",len(y_val))\n",
    "print(\"Length of the y_val = \",len(y_val))"
   ]
  },
  {
   "cell_type": "markdown",
   "id": "ed6efd1d",
   "metadata": {
    "id": "ed6efd1d"
   },
   "source": [
    "---\n",
    "## Model Building"
   ]
  },
  {
   "cell_type": "code",
   "execution_count": null,
   "id": "ec579d45",
   "metadata": {
    "colab": {
     "base_uri": "https://localhost:8080/"
    },
    "id": "ec579d45",
    "outputId": "24e92081-c79f-4dc0-8378-f2d6d095142d"
   },
   "outputs": [],
   "source": [
    "seed = 199\n",
    "lm = LinearRegression()\n",
    "lm1 = lm.fit(X_train,y_train)\n",
    "y_pred_val = lm1.predict(X_val)\n",
    "y_pred_train = lm1.predict(X_train)\n",
    "y_pred_test = lm1.predict(X_test)\n",
    "print(\"R-sq of training set = \",lm1.score(X_train,y_train))\n",
    "print(\"R-sq of validation set = \",lm1.score(X_val,y_val))\n",
    "print(\"R-sq of Test set = \",lm1.score(X_test,y_test))"
   ]
  },
  {
   "cell_type": "code",
   "execution_count": null,
   "id": "eda29c90",
   "metadata": {
    "colab": {
     "base_uri": "https://localhost:8080/",
     "height": 587
    },
    "id": "eda29c90",
    "outputId": "daf9148d-a791-47e7-a76e-aa76ec04ef26"
   },
   "outputs": [],
   "source": [
    "# plot\n",
    "pred = lm.predict(X_train) \n",
    "sns.jointplot(x= pred, y= y_train, kind='reg', color='#533e98');\n",
    "# plt.savefig('plot14.png', dpi = 300, bbox_inches = 'tight');"
   ]
  },
  {
   "cell_type": "code",
   "execution_count": null,
   "id": "ebaa1d87",
   "metadata": {
    "colab": {
     "base_uri": "https://localhost:8080/"
    },
    "id": "ebaa1d87",
    "outputId": "03ecf768-f20e-4848-a4f9-68e2230242a5"
   },
   "outputs": [],
   "source": [
    "from sklearn import metrics\n",
    "print('\\nLinear Regression Performance Metrics')\n",
    "print('R^2=',metrics.explained_variance_score(y_test,y_pred_test))\n",
    "print('MAE:',metrics.mean_absolute_error(y_test,y_pred_test))\n",
    "print('MSE:',metrics.mean_squared_error(y_test,y_pred_test))\n",
    "print('RMSE:',np.sqrt(metrics.mean_squared_error(y_test,y_pred_test)))"
   ]
  },
  {
   "cell_type": "code",
   "execution_count": null,
   "id": "cAorFo_gVWZj",
   "metadata": {
    "colab": {
     "base_uri": "https://localhost:8080/",
     "height": 503
    },
    "id": "cAorFo_gVWZj",
    "outputId": "d9ad84d8-55c2-407d-8d44-15f38dab597a"
   },
   "outputs": [],
   "source": [
    "visualizer = prediction_error(lm, X_train, y_train, X_test, y_test, size=(700, 400),color='y')\n",
    "# plt.savefig('plot15.png', dpi = 300, bbox_inches = 'tight');"
   ]
  },
  {
   "cell_type": "markdown",
   "id": "a11018a9",
   "metadata": {
    "id": "a11018a9"
   },
   "source": [
    "---\n",
    "## Ridge Regularization"
   ]
  },
  {
   "cell_type": "code",
   "execution_count": null,
   "id": "617bb937",
   "metadata": {
    "colab": {
     "base_uri": "https://localhost:8080/"
    },
    "id": "617bb937",
    "outputId": "cfdd16c9-5064-45fd-c9b2-cc172a4ea8d1"
   },
   "outputs": [],
   "source": [
    "#  train data\n",
    "lm_model_ridge = Ridge(alpha = 0.01)\n",
    "lm_model_ridge.fit(X_train, y_train)\n",
    "lm_model_ridge.score(X_train, y_train)"
   ]
  },
  {
   "cell_type": "code",
   "execution_count": null,
   "id": "JyiTmg4y8-ut",
   "metadata": {
    "colab": {
     "base_uri": "https://localhost:8080/"
    },
    "id": "JyiTmg4y8-ut",
    "outputId": "de5ab0b8-8c51-4c40-927f-c3ea310a66f7"
   },
   "outputs": [],
   "source": [
    "#  val data \n",
    "lm_model_ridge = Ridge(alpha = 0.01)\n",
    "lm_model_ridge.fit(X_train, y_train)\n",
    "lm_model_ridge.score(X_val, y_val)"
   ]
  },
  {
   "cell_type": "code",
   "execution_count": null,
   "id": "6OD-NbW-aKlI",
   "metadata": {
    "colab": {
     "base_uri": "https://localhost:8080/"
    },
    "id": "6OD-NbW-aKlI",
    "outputId": "32e9a24b-63cf-4b26-9541-33a9da6ab9fc"
   },
   "outputs": [],
   "source": [
    "#  Test data \n",
    "lm_model_ridge = Ridge(alpha = 0.01)\n",
    "lm_model_ridge.fit(X_train, y_train)\n",
    "lm_model_ridge.score(X_test, y_test)"
   ]
  },
  {
   "cell_type": "code",
   "execution_count": null,
   "id": "60ecb9c7",
   "metadata": {
    "id": "60ecb9c7"
   },
   "outputs": [],
   "source": [
    "#Mean Absolute Error (MAE)\n",
    "def mae(y_true, y_pred):\n",
    "    return np.mean(np.abs(y_pred - y_true)) "
   ]
  },
  {
   "cell_type": "code",
   "execution_count": null,
   "id": "2bab3d6f",
   "metadata": {
    "id": "2bab3d6f"
   },
   "outputs": [],
   "source": [
    "alphalist = 10**(np.linspace(-2,2,200))\n",
    "err_vec_val = np.zeros(len(alphalist))\n",
    "err_vec_train = np.zeros(len(alphalist))\n",
    "\n",
    "for i,curr_alpha in enumerate(alphalist):\n",
    "\n",
    "    \n",
    "    steps = [('standardize', StandardScaler()), \n",
    "             ('Ridge', Ridge(alpha = curr_alpha))]\n",
    "\n",
    "    pipe = Pipeline(steps)\n",
    "    pipe.fit(X_train.loc[:,:].values, y_train)\n",
    "    \n",
    "    val_set_pred = pipe.predict(X_val.loc[:,:].values)\n",
    "    err_vec_val[i] = mae(y_val, val_set_pred)"
   ]
  },
  {
   "cell_type": "code",
   "execution_count": null,
   "id": "37c7f2ac",
   "metadata": {
    "colab": {
     "base_uri": "https://localhost:8080/",
     "height": 497
    },
    "id": "37c7f2ac",
    "outputId": "f0cf5dd6-e197-428e-fc21-dc64567f1f94"
   },
   "outputs": [],
   "source": [
    "plt.figure(figsize=(8,6))\n",
    "plt.plot(np.log10(alphalist), err_vec_val, color='#c15a3a');\n",
    "# plt.savefig('plot16.png', dpi = 300, bbox_inches = 'tight');"
   ]
  },
  {
   "cell_type": "code",
   "execution_count": null,
   "id": "80784a65",
   "metadata": {
    "colab": {
     "base_uri": "https://localhost:8080/"
    },
    "id": "80784a65",
    "outputId": "0400aca7-3c51-4795-e048-bd597850bda1"
   },
   "outputs": [],
   "source": [
    "np.min(err_vec_val)"
   ]
  },
  {
   "cell_type": "code",
   "execution_count": null,
   "id": "ec150eec",
   "metadata": {
    "colab": {
     "base_uri": "https://localhost:8080/"
    },
    "id": "ec150eec",
    "outputId": "333b9b82-3056-473c-a36c-fb55b9a39c7b"
   },
   "outputs": [],
   "source": [
    "alphalist[np.argmin(err_vec_val)]"
   ]
  },
  {
   "cell_type": "markdown",
   "id": "nwFEQYpTOrSX",
   "metadata": {
    "id": "nwFEQYpTOrSX"
   },
   "source": [
    "---\n",
    "## Lasso Model"
   ]
  },
  {
   "cell_type": "code",
   "execution_count": null,
   "id": "D11BZekQO8F5",
   "metadata": {
    "colab": {
     "base_uri": "https://localhost:8080/"
    },
    "id": "D11BZekQO8F5",
    "outputId": "04151b04-d76b-4bcc-cfd3-62f0b9110dde"
   },
   "outputs": [],
   "source": [
    "# train  \n",
    "lm_model_lasso = Lasso(alpha = 0.01)\n",
    "lm_model_lasso.fit(X_train, y_train)\n",
    "lm_model_lasso.score(X_train, y_train)"
   ]
  },
  {
   "cell_type": "code",
   "execution_count": null,
   "id": "j38j-bARPCBq",
   "metadata": {
    "colab": {
     "base_uri": "https://localhost:8080/"
    },
    "id": "j38j-bARPCBq",
    "outputId": "0e27c69d-c1eb-4fb6-ead4-3836d2b99a8a"
   },
   "outputs": [],
   "source": [
    "# val  \n",
    "lm_model_lasso = Lasso(alpha = 0.01)\n",
    "lm_model_lasso.fit(X_train, y_train)\n",
    "lm_model_lasso.score(X_val, y_val)"
   ]
  },
  {
   "cell_type": "code",
   "execution_count": null,
   "id": "14gsRU4Ckrxv",
   "metadata": {
    "colab": {
     "base_uri": "https://localhost:8080/"
    },
    "id": "14gsRU4Ckrxv",
    "outputId": "8c8970a5-24db-417d-b666-2a04764c5f22"
   },
   "outputs": [],
   "source": [
    "#  Test data \n",
    "lm_model_ridge = Ridge(alpha = 0.01)\n",
    "lm_model_ridge.fit(X_train, y_train)\n",
    "lm_model_ridge.score(X_test, y_test)"
   ]
  },
  {
   "cell_type": "code",
   "execution_count": null,
   "id": "5BnapzFt96aZ",
   "metadata": {
    "id": "5BnapzFt96aZ"
   },
   "outputs": [],
   "source": [
    "alphalist = 10**(np.linspace(-2,2,200))\n",
    "er_vec_val = np.zeros(len(alphalist))\n",
    "er_vec_train = np.zeros(len(alphalist))\n",
    "\n",
    "for i,curr_alpha in enumerate(alphalist):\n",
    "\n",
    "    \n",
    "    steps = [('standardize', StandardScaler()), \n",
    "             ('Lasso', Lasso(alpha = curr_alpha))]\n",
    "\n",
    "    pipe = Pipeline(steps)\n",
    "    pipe.fit(X_train.loc[:,:].values, y_train)\n",
    "    \n",
    "    val_set_pred = pipe.predict(X_val.loc[:,:].values)\n",
    "    er_vec_val[i] = mae(y_val, val_set_pred)"
   ]
  },
  {
   "cell_type": "code",
   "execution_count": null,
   "id": "VoAJaJ6V-DLf",
   "metadata": {
    "colab": {
     "base_uri": "https://localhost:8080/",
     "height": 497
    },
    "id": "VoAJaJ6V-DLf",
    "outputId": "5c5979cb-8014-42d7-da9b-e40de91e919e"
   },
   "outputs": [],
   "source": [
    "plt.figure(figsize=(8,6))\n",
    "plt.plot(np.log10(alphalist), er_vec_val, color='#c15a3a');\n",
    "# plt.savefig('plot17.png', dpi = 300, bbox_inches = 'tight');"
   ]
  },
  {
   "cell_type": "code",
   "execution_count": null,
   "id": "yNlRk8xf-bTR",
   "metadata": {
    "colab": {
     "base_uri": "https://localhost:8080/"
    },
    "id": "yNlRk8xf-bTR",
    "outputId": "80a8edf3-34ef-455c-820a-fa57693c5ae3"
   },
   "outputs": [],
   "source": [
    "np.min(er_vec_val)"
   ]
  },
  {
   "cell_type": "code",
   "execution_count": null,
   "id": "ClX-kIHe-pEX",
   "metadata": {
    "colab": {
     "base_uri": "https://localhost:8080/"
    },
    "id": "ClX-kIHe-pEX",
    "outputId": "3b4d26ee-a774-4f6b-dd50-88867e5ae34d"
   },
   "outputs": [],
   "source": [
    "alphalist[np.argmin(err_vec_val)]"
   ]
  }
 ],
 "metadata": {
  "colab": {
   "collapsed_sections": [
    "87daad60",
    "1vqXDAvsgV2-",
    "wobMzjPJhASw",
    "fd346eb4",
    "yYueC3MuRs_V"
   ],
   "name": "Regression_project.ipynb",
   "provenance": []
  },
  "kernelspec": {
   "display_name": "Python 3",
   "language": "python",
   "name": "python3"
  },
  "language_info": {
   "codemirror_mode": {
    "name": "ipython",
    "version": 3
   },
   "file_extension": ".py",
   "mimetype": "text/x-python",
   "name": "python",
   "nbconvert_exporter": "python",
   "pygments_lexer": "ipython3",
   "version": "3.8.8"
  }
 },
 "nbformat": 4,
 "nbformat_minor": 5
}

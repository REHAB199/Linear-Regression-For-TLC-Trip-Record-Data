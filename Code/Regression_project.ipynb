{
 "cells": [
  {
   "cell_type": "markdown",
   "id": "b941e000",
   "metadata": {
    "id": "b941e000"
   },
   "source": [
    "# TLC Trip Record Data Prediction\n",
    "---"
   ]
  },
  {
   "cell_type": "markdown",
   "id": "87daad60",
   "metadata": {
    "id": "87daad60"
   },
   "source": [
    "### Import packages"
   ]
  },
  {
   "cell_type": "code",
   "execution_count": null,
   "id": "dedd16c7",
   "metadata": {
    "id": "dedd16c7"
   },
   "outputs": [],
   "source": [
    "import pandas as pd\n",
    "import numpy as np\n",
    "import statsmodels.api as sm\n",
    "import statsmodels.formula.api as smf\n",
    "import patsy\n",
    "import sklearn\n",
    "import seaborn as sns\n",
    "import matplotlib.pyplot as plt\n",
    "from sklearn.linear_model import LinearRegression\n",
    "from sklearn.linear_model import RidgeCV\n",
    "%matplotlib inline\n",
    "%config InlineBackend.figure_format = 'svg'\n",
    "\n",
    "from sklearn.model_selection import train_test_split\n",
    "from sklearn.linear_model import LinearRegression, Ridge \n",
    "from sklearn.preprocessing import StandardScaler, PolynomialFeatures\n",
    "\n",
    "import warnings\n",
    "warnings.filterwarnings('ignore')\n",
    "\n",
    "import random\n",
    "\n",
    "from sklearn.linear_model import LinearRegression, Lasso, LassoCV, Ridge, RidgeCV\n",
    "\n",
    "from sklearn.pipeline import Pipeline\n",
    "from sklearn.preprocessing import StandardScaler"
   ]
  },
  {
   "cell_type": "code",
   "execution_count": null,
   "id": "2c38bfc9",
   "metadata": {
    "colab": {
     "base_uri": "https://localhost:8080/",
     "height": 443
    },
    "id": "2c38bfc9",
    "outputId": "27aac6ee-cfdc-490f-9f77-1afb36057242"
   },
   "outputs": [],
   "source": [
    "df1= pd.read_csv('green_tripdata-one-.csv')\n",
    "df1"
   ]
  },
  {
   "cell_type": "code",
   "execution_count": null,
   "id": "f5c2081e",
   "metadata": {
    "colab": {
     "base_uri": "https://localhost:8080/",
     "height": 443
    },
    "id": "f5c2081e",
    "outputId": "0be78cc4-4ea3-464b-dee4-bffed355a928"
   },
   "outputs": [],
   "source": [
    "df2= pd.read_csv('green_tripdata_two-.csv')\n",
    "df2"
   ]
  },
  {
   "cell_type": "code",
   "execution_count": null,
   "id": "b8d9d9d3",
   "metadata": {
    "colab": {
     "base_uri": "https://localhost:8080/",
     "height": 383
    },
    "id": "b8d9d9d3",
    "outputId": "7810513b-4856-4be9-9769-56f026a09c3e"
   },
   "outputs": [],
   "source": [
    "con_data= pd.concat([df1,df2])   # concat two dataset\n",
    "con_data.head(10)"
   ]
  },
  {
   "cell_type": "code",
   "execution_count": null,
   "id": "0553b0b6",
   "metadata": {
    "colab": {
     "base_uri": "https://localhost:8080/"
    },
    "id": "0553b0b6",
    "outputId": "b7cce6c6-bdf8-454a-c876-15fcba98a251"
   },
   "outputs": [],
   "source": [
    "con_data.shape"
   ]
  },
  {
   "cell_type": "code",
   "execution_count": null,
   "id": "a5c85b76",
   "metadata": {
    "colab": {
     "base_uri": "https://localhost:8080/"
    },
    "id": "a5c85b76",
    "outputId": "104e1148-ee4a-45ab-b567-04e03d493e54",
    "scrolled": false
   },
   "outputs": [],
   "source": [
    "con_data.info()"
   ]
  },
  {
   "cell_type": "code",
   "execution_count": null,
   "id": "ded05572",
   "metadata": {
    "id": "ded05572"
   },
   "outputs": [],
   "source": [
    "# con_data = con_data.sample(frac=1,random_state=79).reset_index(drop=True)"
   ]
  },
  {
   "cell_type": "code",
   "execution_count": null,
   "id": "1b6925d0",
   "metadata": {
    "colab": {
     "base_uri": "https://localhost:8080/",
     "height": 87
    },
    "id": "1b6925d0",
    "outputId": "113e590e-7073-4536-95f8-b381ad226d2a"
   },
   "outputs": [],
   "source": [
    "duplicate = con_data.duplicated()\n",
    "print(duplicate.sum())\n",
    "con_data[duplicate]"
   ]
  },
  {
   "cell_type": "code",
   "execution_count": null,
   "id": "ec43c7a0",
   "metadata": {
    "id": "ec43c7a0"
   },
   "outputs": [],
   "source": [
    "# Simple Validation Method\n",
    "con_data_train , con_data_test = train_test_split(con_data, test_size=0.2, random_state=199)"
   ]
  },
  {
   "cell_type": "code",
   "execution_count": null,
   "id": "b6446b84",
   "metadata": {
    "id": "b6446b84"
   },
   "outputs": [],
   "source": [
    "con_data_train2, con_data_val =  train_test_split(con_data_train, test_size=0.2, random_state=199)"
   ]
  },
  {
   "cell_type": "markdown",
   "id": "80c8b09e",
   "metadata": {
    "id": "80c8b09e"
   },
   "source": [
    "## Relation Between Features"
   ]
  },
  {
   "cell_type": "code",
   "execution_count": null,
   "id": "a45b6cd2",
   "metadata": {
    "colab": {
     "base_uri": "https://localhost:8080/",
     "height": 845
    },
    "id": "a45b6cd2",
    "outputId": "8a3a7fd9-d4fb-4042-8b66-daae09716044"
   },
   "outputs": [],
   "source": [
    "plt.rcParams[\"figure.figsize\"] = (10,8);\n",
    "\n",
    "# corr\n",
    "con_data_corr = con_data.corr()\n",
    "\n",
    "# mask\n",
    "mask = np.triu(np.ones_like(con_data_corr, dtype=np.bool))\n",
    "\n",
    "# adjust mask and df\n",
    "mask = mask[1:, :-1]\n",
    "corr = con_data_corr.iloc[1:,:-1].copy()\n",
    "\n",
    "sns.heatmap(corr, cmap = 'icefire', annot = True, vmin= -1, vmax= 1, linewidths=1.5, fmt='.2f', mask=mask);\n",
    "plt.title('CORRELATION MATRIX\\n', loc='left', fontsize=18);"
   ]
  },
  {
   "cell_type": "code",
   "execution_count": null,
   "id": "2466f60b",
   "metadata": {
    "id": "2466f60b"
   },
   "outputs": [],
   "source": [
    "# convert type pickup datetime for train\n",
    "con_data_train2['lpep_pickup_datetime']= pd.to_datetime(con_data_train2['lpep_pickup_datetime'],format=\"%Y-%m-%d %H:%M:%S\")\n",
    "\n",
    "# convert type pickup datetime for val\n",
    "con_data_val['lpep_pickup_datetime']= pd.to_datetime(con_data_val['lpep_pickup_datetime'],format=\"%Y-%m-%d %H:%M:%S\")\n",
    "\n",
    "# convert type pickup datetime for test\n",
    "con_data_test['lpep_pickup_datetime']= pd.to_datetime(con_data_test['lpep_pickup_datetime'],format=\"%Y-%m-%d %H:%M:%S\")\n",
    "\n",
    "############################\n",
    "\n",
    "# convert type dropoff datetime for train\n",
    "con_data_train2['lpep_dropoff_datetime']= pd.to_datetime(con_data_train2['lpep_dropoff_datetime'],format=\"%Y-%m-%d %H:%M:%S\") \n",
    "\n",
    "# convert type dropoff datetime for val\n",
    "con_data_val['lpep_dropoff_datetime']= pd.to_datetime(con_data_val['lpep_dropoff_datetime'],format=\"%Y-%m-%d %H:%M:%S\")\n",
    "\n",
    "# convert type dropoff datetime for test\n",
    "con_data_test['lpep_dropoff_datetime']= pd.to_datetime(con_data_test['lpep_dropoff_datetime'],format=\"%Y-%m-%d %H:%M:%S\") "
   ]
  },
  {
   "cell_type": "code",
   "execution_count": null,
   "id": "0a74790d",
   "metadata": {
    "colab": {
     "base_uri": "https://localhost:8080/"
    },
    "id": "0a74790d",
    "outputId": "0c9e37db-c45d-4c4c-b8c6-a93a1fdfe118"
   },
   "outputs": [],
   "source": [
    "con_data_train2.dtypes"
   ]
  },
  {
   "cell_type": "code",
   "execution_count": null,
   "id": "094d7d28",
   "metadata": {
    "colab": {
     "base_uri": "https://localhost:8080/"
    },
    "id": "094d7d28",
    "outputId": "c76bea57-1a29-4409-f6d6-2705ddbcff6e",
    "scrolled": false
   },
   "outputs": [],
   "source": [
    "con_data_val.dtypes"
   ]
  },
  {
   "cell_type": "code",
   "execution_count": null,
   "id": "aeed8eb7",
   "metadata": {
    "colab": {
     "base_uri": "https://localhost:8080/"
    },
    "id": "aeed8eb7",
    "outputId": "85354f60-d6c7-493f-a774-c3a0499a3222"
   },
   "outputs": [],
   "source": [
    "con_data_test.dtypes"
   ]
  },
  {
   "cell_type": "code",
   "execution_count": null,
   "id": "52580749",
   "metadata": {
    "id": "52580749"
   },
   "outputs": [],
   "source": [
    "#### Pickup datetime convert ####\n",
    "\n",
    "# for train\n",
    "\n",
    "#extract month\n",
    "con_data_train2[\"month_pickup\"] = pd.DatetimeIndex(con_data_train2[\"lpep_pickup_datetime\"]).month\n",
    "\n",
    "#extract week day \n",
    "con_data_train2[\"week_day_pickup\"]= con_data_train2[\"lpep_pickup_datetime\"].dt.weekday\n",
    "\n",
    "#extract day \n",
    "con_data_train2[\"day_pickup\"]= con_data_train2[\"lpep_pickup_datetime\"].dt.day\n",
    "\n",
    "#extract hour\n",
    "con_data_train2[\"hour_pickup\"]= con_data_train2[\"lpep_pickup_datetime\"].dt.hour \n",
    "\n",
    "con_data_train2 =con_data_train2.sort_values(by = \"lpep_pickup_datetime\",ascending = True)\n",
    "\n",
    "#####################\n",
    "\n",
    "# for val\n",
    "\n",
    "#extract month\n",
    "con_data_val[\"month_pickup\"] = pd.DatetimeIndex(con_data_val[\"lpep_pickup_datetime\"]).month\n",
    "\n",
    "#extract week day \n",
    "con_data_val[\"week_day_pickup\"]= con_data_val[\"lpep_pickup_datetime\"].dt.weekday\n",
    "\n",
    "#extract day \n",
    "con_data_val[\"day_pickup\"]= con_data_val[\"lpep_pickup_datetime\"].dt.day\n",
    "\n",
    "#extract hour\n",
    "con_data_val[\"hour_pickup\"]= con_data_val[\"lpep_pickup_datetime\"].dt.hour \n",
    "\n",
    "con_data_val =con_data_val.sort_values(by = \"lpep_pickup_datetime\",ascending = True)\n",
    "\n",
    "#####################\n",
    "\n",
    "# for test\n",
    "\n",
    "#extract month\n",
    "con_data_test[\"month_pickup\"] = pd.DatetimeIndex(con_data_test[\"lpep_pickup_datetime\"]).month\n",
    "\n",
    "#extract week day \n",
    "con_data_test[\"week_day_pickup\"]= con_data_test[\"lpep_pickup_datetime\"].dt.weekday\n",
    "\n",
    "#extract day \n",
    "con_data_test[\"day_pickup\"]= con_data_test[\"lpep_pickup_datetime\"].dt.day\n",
    "\n",
    "#extract hour\n",
    "con_data_test[\"hour_pickup\"]= con_data_test[\"lpep_pickup_datetime\"].dt.hour \n",
    "\n",
    "con_data_test =con_data_test.sort_values(by = \"lpep_pickup_datetime\",ascending = True)"
   ]
  },
  {
   "cell_type": "code",
   "execution_count": null,
   "id": "2639ae0c",
   "metadata": {
    "id": "2639ae0c"
   },
   "outputs": [],
   "source": [
    "#### Dropoff datetime convert ####\n",
    "\n",
    "# for train\n",
    "\n",
    "#extract month\n",
    "con_data_train2[\"month_dropoff\"] = pd.DatetimeIndex(con_data_train2[\"lpep_dropoff_datetime\"]).month\n",
    "\n",
    "#extract week day \n",
    "con_data_train2[\"week_day_dropoff\"]= con_data_train2[\"lpep_dropoff_datetime\"].dt.weekday\n",
    "\n",
    "#extract day \n",
    "con_data_train2[\"day_dropoff\"]= con_data_train2[\"lpep_dropoff_datetime\"].dt.day\n",
    "\n",
    "#extract hour\n",
    "con_data_train2[\"hour_dropoff\"]= con_data_train2[\"lpep_dropoff_datetime\"].dt.hour \n",
    "\n",
    "con_data_train2 =con_data_train2.sort_values(by = \"lpep_dropoff_datetime\",ascending = True)\n",
    "\n",
    "#####################\n",
    "\n",
    "# for val\n",
    "\n",
    "#extract month\n",
    "con_data_val[\"month_dropoff\"] = pd.DatetimeIndex(con_data_val[\"lpep_dropoff_datetime\"]).month\n",
    "\n",
    "#extract week day \n",
    "con_data_val[\"week_day_dropoff\"]= con_data_val[\"lpep_dropoff_datetime\"].dt.weekday\n",
    "\n",
    "#extract day \n",
    "con_data_val[\"day_dropoff\"]= con_data_val[\"lpep_dropoff_datetime\"].dt.day\n",
    "\n",
    "#extract hour\n",
    "con_data_val[\"hour_dropoff\"]= con_data_val[\"lpep_dropoff_datetime\"].dt.hour \n",
    "\n",
    "con_data_val =con_data_val.sort_values(by = \"lpep_dropoff_datetime\",ascending = True)\n",
    "\n",
    "#####################\n",
    "\n",
    "# for test\n",
    "\n",
    "#extract month\n",
    "con_data_test[\"month_dropoff\"] = pd.DatetimeIndex(con_data_test[\"lpep_dropoff_datetime\"]).month\n",
    "\n",
    "#extract week day \n",
    "con_data_test[\"week_day_dropoff\"]= con_data_test[\"lpep_dropoff_datetime\"].dt.weekday\n",
    "\n",
    "#extract day \n",
    "con_data_test[\"day_dropoff\"]= con_data_test[\"lpep_dropoff_datetime\"].dt.day\n",
    "\n",
    "#extract hour\n",
    "con_data_test[\"hour_dropoff\"]= con_data_test[\"lpep_dropoff_datetime\"].dt.hour \n",
    "\n",
    "con_data_test =con_data_test.sort_values(by = \"lpep_dropoff_datetime\",ascending = True)"
   ]
  },
  {
   "cell_type": "code",
   "execution_count": null,
   "id": "51253d33",
   "metadata": {
    "colab": {
     "base_uri": "https://localhost:8080/",
     "height": 226
    },
    "id": "51253d33",
    "outputId": "3d4d6ca4-04a9-4e52-e984-28c67e82a7e2"
   },
   "outputs": [],
   "source": [
    "con_data_train2.head()"
   ]
  },
  {
   "cell_type": "code",
   "execution_count": null,
   "id": "c0ee2e90",
   "metadata": {
    "colab": {
     "base_uri": "https://localhost:8080/",
     "height": 226
    },
    "id": "c0ee2e90",
    "outputId": "1b7b43a9-254b-499f-8d29-eb077107c036",
    "scrolled": true
   },
   "outputs": [],
   "source": [
    "con_data_val.head()"
   ]
  },
  {
   "cell_type": "code",
   "execution_count": null,
   "id": "a477e927",
   "metadata": {
    "colab": {
     "base_uri": "https://localhost:8080/",
     "height": 226
    },
    "id": "a477e927",
    "outputId": "c50a6f29-b2b2-440c-aba3-1b26d21ff7f1"
   },
   "outputs": [],
   "source": [
    "con_data_test.head()"
   ]
  },
  {
   "cell_type": "code",
   "execution_count": null,
   "id": "4ffa506b",
   "metadata": {
    "colab": {
     "base_uri": "https://localhost:8080/"
    },
    "id": "4ffa506b",
    "outputId": "68a9eaed-9a60-45c5-f96e-4daecee137ba"
   },
   "outputs": [],
   "source": [
    "con_data_train2.columns"
   ]
  },
  {
   "cell_type": "code",
   "execution_count": null,
   "id": "24295a10",
   "metadata": {
    "colab": {
     "base_uri": "https://localhost:8080/"
    },
    "id": "24295a10",
    "outputId": "f3013afd-5afe-402a-9f35-e4f46537b721"
   },
   "outputs": [],
   "source": [
    "con_data_val.columns"
   ]
  },
  {
   "cell_type": "code",
   "execution_count": null,
   "id": "437a8a3e",
   "metadata": {
    "colab": {
     "base_uri": "https://localhost:8080/"
    },
    "id": "437a8a3e",
    "outputId": "2f86b923-1939-4af1-9b32-cc7ef33de47f"
   },
   "outputs": [],
   "source": [
    "con_data_test.columns"
   ]
  },
  {
   "cell_type": "code",
   "execution_count": null,
   "id": "23558b96",
   "metadata": {
    "id": "23558b96"
   },
   "outputs": [],
   "source": [
    "#### Clean outliers for time ####\n",
    "\n",
    "\n",
    "#### for train ####\n",
    "\n",
    "date = pd.Timestamp(2021,1,1)\n",
    "con_data_train2 = con_data_train2[con_data_train2['lpep_pickup_datetime'] >= date ]\n",
    "\n",
    "date = pd.Timestamp(2021,2,28)\n",
    "con_data_train2 = con_data_train2[con_data_train2['lpep_pickup_datetime'] <= date ]\n",
    "\n",
    "\n",
    "#### for val ####\n",
    "\n",
    "date = pd.Timestamp(2021,1,1)\n",
    "con_data_val = con_data_val[con_data_val['lpep_pickup_datetime'] >= date ]\n",
    "\n",
    "date = pd.Timestamp(2021,2,28)\n",
    "con_data_val = con_data_val[con_data_val['lpep_pickup_datetime'] <= date ]\n",
    "\n",
    "\n",
    "#### for test ####\n",
    "\n",
    "date = pd.Timestamp(2021,1,1)\n",
    "con_data_test = con_data_test[con_data_test['lpep_pickup_datetime'] >= date ]\n",
    "\n",
    "date = pd.Timestamp(2021,2,28)\n",
    "con_data_test = con_data_test[con_data_test['lpep_pickup_datetime'] <= date ]"
   ]
  },
  {
   "cell_type": "code",
   "execution_count": null,
   "id": "2b6f3176",
   "metadata": {
    "id": "2b6f3176"
   },
   "outputs": [],
   "source": [
    "# drop datetime columns for train \n",
    "con_data_train2= con_data_train2.drop(['lpep_pickup_datetime','lpep_dropoff_datetime'],axis =1)\n",
    "# drop datetime columns for val \n",
    "con_data_val= con_data_val.drop(['lpep_pickup_datetime','lpep_dropoff_datetime'],axis =1)\n",
    "# drop datetime columns for test \n",
    "con_data_test= con_data_test.drop(['lpep_pickup_datetime','lpep_dropoff_datetime'],axis =1)"
   ]
  },
  {
   "cell_type": "code",
   "execution_count": null,
   "id": "37828c33",
   "metadata": {
    "colab": {
     "base_uri": "https://localhost:8080/"
    },
    "id": "37828c33",
    "outputId": "67b27485-9f19-4efa-a00b-542761a6c075",
    "scrolled": false
   },
   "outputs": [],
   "source": [
    "con_data_train2.isna().sum()"
   ]
  },
  {
   "cell_type": "code",
   "execution_count": null,
   "id": "cf96a2eb",
   "metadata": {
    "colab": {
     "base_uri": "https://localhost:8080/"
    },
    "id": "cf96a2eb",
    "outputId": "78240ee2-1f28-4611-e4f3-15d5212dd705"
   },
   "outputs": [],
   "source": [
    "con_data_val.isna().sum()"
   ]
  },
  {
   "cell_type": "code",
   "execution_count": null,
   "id": "89f821d0",
   "metadata": {
    "colab": {
     "base_uri": "https://localhost:8080/"
    },
    "id": "89f821d0",
    "outputId": "2469b34d-c34c-4cbf-bb78-2a2730980ff5"
   },
   "outputs": [],
   "source": [
    "con_data_test.isna().sum()"
   ]
  },
  {
   "cell_type": "code",
   "execution_count": null,
   "id": "0e8b1377",
   "metadata": {
    "id": "0e8b1377"
   },
   "outputs": [],
   "source": [
    "# drop columns for Train\n",
    "con_data_train2.drop(columns=['ehail_fee', 'congestion_surcharge','RatecodeID'], inplace=True)\n",
    "\n",
    "# drop columns for Val\n",
    "con_data_val.drop(columns=['ehail_fee', 'congestion_surcharge','RatecodeID'], inplace=True)\n",
    "\n",
    "# drop columns for test\n",
    "con_data_test.drop(columns=['ehail_fee', 'congestion_surcharge','RatecodeID'], inplace=True)"
   ]
  },
  {
   "cell_type": "code",
   "execution_count": null,
   "id": "ab4ff085",
   "metadata": {
    "colab": {
     "base_uri": "https://localhost:8080/"
    },
    "id": "ab4ff085",
    "outputId": "1e4d4c01-3589-479a-be40-155859e9b5dd"
   },
   "outputs": [],
   "source": [
    "con_data_val.isna().sum()"
   ]
  },
  {
   "cell_type": "code",
   "execution_count": null,
   "id": "3617c841",
   "metadata": {
    "colab": {
     "base_uri": "https://localhost:8080/",
     "height": 1000
    },
    "id": "3617c841",
    "outputId": "ccc2d0f8-509f-4816-e999-a040056e457d"
   },
   "outputs": [],
   "source": [
    "#### for train ####\n",
    "\n",
    "duplicate = con_data_train2.duplicated()\n",
    "print(duplicate.sum())\n",
    "con_data_train2[duplicate]"
   ]
  },
  {
   "cell_type": "code",
   "execution_count": null,
   "id": "12e3f822",
   "metadata": {
    "id": "12e3f822"
   },
   "outputs": [],
   "source": [
    "#### for train ####\n",
    "\n",
    "# drop duplicates rows\n",
    "con_data_train2.drop_duplicates(inplace=True)"
   ]
  },
  {
   "cell_type": "code",
   "execution_count": null,
   "id": "d32aa2e9",
   "metadata": {
    "colab": {
     "base_uri": "https://localhost:8080/",
     "height": 243
    },
    "id": "d32aa2e9",
    "outputId": "74736495-be98-4f3a-bf91-f271d9ae68de"
   },
   "outputs": [],
   "source": [
    "#### for val ####\n",
    "\n",
    "duplicate = con_data_val.duplicated()\n",
    "print(duplicate.sum())\n",
    "con_data_val[duplicate]"
   ]
  },
  {
   "cell_type": "code",
   "execution_count": null,
   "id": "2020eb55",
   "metadata": {
    "id": "2020eb55"
   },
   "outputs": [],
   "source": [
    "#### for val ####\n",
    "\n",
    "# drop duplicates rows\n",
    "con_data_val.drop_duplicates(inplace=True)"
   ]
  },
  {
   "cell_type": "code",
   "execution_count": null,
   "id": "9df39c45",
   "metadata": {
    "colab": {
     "base_uri": "https://localhost:8080/",
     "height": 337
    },
    "id": "9df39c45",
    "outputId": "75c7d105-3303-4e53-91e5-c093e723589a"
   },
   "outputs": [],
   "source": [
    "#### for test ####\n",
    "\n",
    "duplicate = con_data_test.duplicated()\n",
    "print(duplicate.sum())\n",
    "con_data_test[duplicate]"
   ]
  },
  {
   "cell_type": "code",
   "execution_count": null,
   "id": "80e6e0f5",
   "metadata": {
    "id": "80e6e0f5"
   },
   "outputs": [],
   "source": [
    "#### for test ####\n",
    "\n",
    "# drop duplicates rows\n",
    "con_data_test.drop_duplicates(inplace=True)"
   ]
  },
  {
   "cell_type": "code",
   "execution_count": null,
   "id": "648d3782",
   "metadata": {
    "id": "648d3782"
   },
   "outputs": [],
   "source": [
    "#### fill nulls ####\n",
    "\n",
    "# drop null in rows for Train\n",
    "con_data_train2 = con_data_train2.dropna()\n",
    "\n",
    "# drop null in rows for Val\n",
    "con_data_val = con_data_val.dropna()\n",
    "\n",
    "# drop null in rows for test\n",
    "con_data_test = con_data_test.dropna()"
   ]
  },
  {
   "cell_type": "code",
   "execution_count": null,
   "id": "99482eaa",
   "metadata": {
    "colab": {
     "base_uri": "https://localhost:8080/",
     "height": 739
    },
    "id": "99482eaa",
    "outputId": "039385b2-32fb-44f7-9660-ac8768950834"
   },
   "outputs": [],
   "source": [
    "con_data_train2.describe().transpose()"
   ]
  },
  {
   "cell_type": "code",
   "execution_count": null,
   "id": "1bba06c9",
   "metadata": {
    "id": "1bba06c9"
   },
   "outputs": [],
   "source": [
    "#### passenger_count outliers ####\n",
    "\n",
    "# Remove passenger_count outliers for Train\n",
    "con_data_train2 = con_data_train2[con_data_train2['passenger_count']>0]\n",
    "con_data_train2 = con_data_train2[con_data_train2['passenger_count']<9]\n",
    "\n",
    "# Remove passenger_count outliers for val\n",
    "con_data_val = con_data_val[con_data_val['passenger_count']>0]\n",
    "con_data_val = con_data_val[con_data_val['passenger_count']<9]\n",
    "\n",
    "# Remove passenger_count outliers for test\n",
    "con_data_test = con_data_test[con_data_test['passenger_count']>0]\n",
    "con_data_test = con_data_test[con_data_test['passenger_count']<9]\n",
    "\n",
    "\n",
    "\n",
    "#### zero distance trips ####\n",
    "\n",
    "# removing zero distance trips for Train\n",
    "con_data_train2 = con_data_train2[con_data_train2['trip_distance'] > 0]\n",
    "\n",
    "# removing zero distance trips for val\n",
    "con_data_val = con_data_val[con_data_val['trip_distance'] > 0]\n",
    "\n",
    "# removing zero distance trips for test\n",
    "con_data_test = con_data_test[con_data_test['trip_distance'] > 0]\n",
    "\n",
    "\n",
    "\n",
    "#### zero/negative fares ####\n",
    "\n",
    "# removing trips with zero/negative fares for Train\n",
    "con_data_train2= con_data_train2[con_data_train2['fare_amount'] >= 0]\n",
    "\n",
    "# removing trips with zero/negative fares for val\n",
    "con_data_val= con_data_val[con_data_val['fare_amount'] >= 0]\n",
    "\n",
    "# removing trips with zero/negative fares for test\n",
    "con_data_test= con_data_test[con_data_test['fare_amount'] >= 0]"
   ]
  },
  {
   "cell_type": "code",
   "execution_count": null,
   "id": "87ef0701",
   "metadata": {
    "colab": {
     "base_uri": "https://localhost:8080/"
    },
    "id": "87ef0701",
    "outputId": "f0f99ffc-d929-4d68-fef5-601760f42da7"
   },
   "outputs": [],
   "source": [
    "con_data_train2.info()"
   ]
  },
  {
   "cell_type": "code",
   "execution_count": null,
   "id": "3693a8c1",
   "metadata": {
    "colab": {
     "base_uri": "https://localhost:8080/"
    },
    "id": "3693a8c1",
    "outputId": "c47fbff6-8476-4c85-e2fd-5a0357d185b9",
    "scrolled": false
   },
   "outputs": [],
   "source": [
    "con_data_val.info()"
   ]
  },
  {
   "cell_type": "code",
   "execution_count": null,
   "id": "15c7e064",
   "metadata": {
    "colab": {
     "base_uri": "https://localhost:8080/"
    },
    "id": "15c7e064",
    "outputId": "f746428a-aa0a-4162-f70f-ed333bb4e291"
   },
   "outputs": [],
   "source": [
    "con_data_test.info()"
   ]
  },
  {
   "cell_type": "markdown",
   "id": "fd346eb4",
   "metadata": {
    "id": "fd346eb4"
   },
   "source": [
    "---\n",
    "### working on (VendorID, store_and_fwd_flag, payment_type, trip_type) columns to get dummies "
   ]
  },
  {
   "cell_type": "code",
   "execution_count": null,
   "id": "b4c9ceed",
   "metadata": {
    "colab": {
     "base_uri": "https://localhost:8080/"
    },
    "id": "b4c9ceed",
    "outputId": "073a678e-65fc-4411-da33-34906f104fdb"
   },
   "outputs": [],
   "source": [
    "con_data_train2.shape"
   ]
  },
  {
   "cell_type": "code",
   "execution_count": null,
   "id": "6bd546cc",
   "metadata": {
    "colab": {
     "base_uri": "https://localhost:8080/"
    },
    "id": "6bd546cc",
    "outputId": "8744c6eb-955a-4fe6-a47a-9c76387a0b9b"
   },
   "outputs": [],
   "source": [
    "con_data_val.shape"
   ]
  },
  {
   "cell_type": "code",
   "execution_count": null,
   "id": "192d46d6",
   "metadata": {
    "colab": {
     "base_uri": "https://localhost:8080/"
    },
    "id": "192d46d6",
    "outputId": "a55e458b-a22d-4602-cd54-c27100f07608"
   },
   "outputs": [],
   "source": [
    "con_data_test.shape"
   ]
  },
  {
   "cell_type": "code",
   "execution_count": null,
   "id": "82d623af",
   "metadata": {
    "colab": {
     "base_uri": "https://localhost:8080/"
    },
    "id": "82d623af",
    "outputId": "85af5479-fce3-4f77-e942-d01e008e9869"
   },
   "outputs": [],
   "source": [
    "con_data_train2['VendorID'].dtypes"
   ]
  },
  {
   "cell_type": "code",
   "execution_count": null,
   "id": "d5b2d7f9",
   "metadata": {
    "colab": {
     "base_uri": "https://localhost:8080/"
    },
    "id": "d5b2d7f9",
    "outputId": "3c6f8014-a807-499a-8b59-3052270497c4"
   },
   "outputs": [],
   "source": [
    "con_data_val['VendorID'].dtypes"
   ]
  },
  {
   "cell_type": "code",
   "execution_count": null,
   "id": "1952148b",
   "metadata": {
    "colab": {
     "base_uri": "https://localhost:8080/"
    },
    "id": "1952148b",
    "outputId": "dbcfe23e-9c0f-4035-e689-b9f3ba1a8617"
   },
   "outputs": [],
   "source": [
    "con_data_test['VendorID'].dtypes"
   ]
  },
  {
   "cell_type": "code",
   "execution_count": null,
   "id": "94e01175",
   "metadata": {
    "id": "94e01175"
   },
   "outputs": [],
   "source": [
    "# # VendorID type conversion to get dummies for train\n",
    "# con_data_train2['VendorID'] = con_data_train2.VendorID.astype('category')\n",
    "# # VendorID type conversion to get dummies for val\n",
    "# con_data_val['VendorID'] = con_data_val.VendorID.astype('category')\n",
    "# # VendorID type conversion to get dummies for test\n",
    "# con_data_test['VendorID'] = con_data_test.VendorID.astype('category')"
   ]
  },
  {
   "cell_type": "code",
   "execution_count": null,
   "id": "0d6527cf",
   "metadata": {
    "id": "0d6527cf"
   },
   "outputs": [],
   "source": [
    "# con_data_train2['store_and_fwd_flag'].dtypes"
   ]
  },
  {
   "cell_type": "code",
   "execution_count": null,
   "id": "9a9ecc70",
   "metadata": {
    "id": "9a9ecc70"
   },
   "outputs": [],
   "source": [
    "# con_data_val['store_and_fwd_flag'].dtypes"
   ]
  },
  {
   "cell_type": "code",
   "execution_count": null,
   "id": "e4ec71d3",
   "metadata": {
    "id": "e4ec71d3"
   },
   "outputs": [],
   "source": [
    "# con_data_test['store_and_fwd_flag'].dtypes"
   ]
  },
  {
   "cell_type": "code",
   "execution_count": null,
   "id": "c49ab961",
   "metadata": {
    "id": "c49ab961"
   },
   "outputs": [],
   "source": [
    "# con_data_train2['payment_type'].dtypes"
   ]
  },
  {
   "cell_type": "code",
   "execution_count": null,
   "id": "1ca62509",
   "metadata": {
    "id": "1ca62509"
   },
   "outputs": [],
   "source": [
    "# con_data_val['payment_type'].dtypes"
   ]
  },
  {
   "cell_type": "code",
   "execution_count": null,
   "id": "2c0d227e",
   "metadata": {
    "id": "2c0d227e"
   },
   "outputs": [],
   "source": [
    "# con_data_test['payment_type'].dtypes"
   ]
  },
  {
   "cell_type": "code",
   "execution_count": null,
   "id": "a85a810f",
   "metadata": {
    "id": "a85a810f"
   },
   "outputs": [],
   "source": [
    "# # payment_type type conversion to get dummies for train\n",
    "# con_data_train2['payment_type'] = con_data_train2.payment_type.astype('category')\n",
    "# # payment_type type conversion to get dummies for val\n",
    "# con_data_val['payment_type'] = con_data_val.payment_type.astype('category')\n",
    "# # payment_type type conversion to get dummies for test\n",
    "# con_data_test['payment_type'] = con_data_test.payment_type.astype('category')"
   ]
  },
  {
   "cell_type": "code",
   "execution_count": null,
   "id": "561857b6",
   "metadata": {
    "id": "561857b6"
   },
   "outputs": [],
   "source": [
    "# con_data_train2['trip_type'].dtypes"
   ]
  },
  {
   "cell_type": "code",
   "execution_count": null,
   "id": "fa0a9016",
   "metadata": {
    "id": "fa0a9016"
   },
   "outputs": [],
   "source": [
    "# con_data_val['trip_type'].dtypes"
   ]
  },
  {
   "cell_type": "code",
   "execution_count": null,
   "id": "877abcd5",
   "metadata": {
    "id": "877abcd5"
   },
   "outputs": [],
   "source": [
    "# con_data_test['trip_type'].dtypes"
   ]
  },
  {
   "cell_type": "code",
   "execution_count": null,
   "id": "34f7198c",
   "metadata": {
    "id": "34f7198c"
   },
   "outputs": [],
   "source": [
    "# # trip_type type conversion to get dummies for train \n",
    "# con_data_train2['trip_type'] = con_data_train2.trip_type.astype('category')\n",
    "# # trip_type type conversion to get dummies for val\n",
    "# con_data_val['trip_type'] = con_data_val.trip_type.astype('category')\n",
    "# # trip_type type conversion to get dummies for test\n",
    "# con_data_test['trip_type'] = con_data_test.trip_type.astype('category')"
   ]
  },
  {
   "cell_type": "code",
   "execution_count": null,
   "id": "35466352",
   "metadata": {
    "id": "35466352"
   },
   "outputs": [],
   "source": [
    "# get dummies for train \n",
    "con_data_train2 = pd.get_dummies(con_data_train2)\n",
    "\n",
    "# get dummies for val \n",
    "con_data_val = pd.get_dummies(con_data_val)\n",
    "\n",
    "# get dummies for test \n",
    "con_data_test = pd.get_dummies(con_data_test)"
   ]
  },
  {
   "cell_type": "code",
   "execution_count": null,
   "id": "c47371ab",
   "metadata": {
    "colab": {
     "base_uri": "https://localhost:8080/"
    },
    "id": "c47371ab",
    "outputId": "f8e09ef6-7ae4-4259-b26c-5d1a6410f0db"
   },
   "outputs": [],
   "source": [
    "con_data_train2.shape"
   ]
  },
  {
   "cell_type": "code",
   "execution_count": null,
   "id": "3149b8da",
   "metadata": {
    "colab": {
     "base_uri": "https://localhost:8080/"
    },
    "id": "3149b8da",
    "outputId": "df14eb3e-d4ae-4932-93f6-389e3eb74228"
   },
   "outputs": [],
   "source": [
    "con_data_val.shape"
   ]
  },
  {
   "cell_type": "code",
   "execution_count": null,
   "id": "063147ce",
   "metadata": {
    "colab": {
     "base_uri": "https://localhost:8080/"
    },
    "id": "063147ce",
    "outputId": "0e21f066-04d4-4d9d-bc65-a048b219e603"
   },
   "outputs": [],
   "source": [
    "con_data_test.shape"
   ]
  },
  {
   "cell_type": "code",
   "execution_count": null,
   "id": "d17602d4",
   "metadata": {
    "colab": {
     "base_uri": "https://localhost:8080/"
    },
    "id": "d17602d4",
    "outputId": "859ecb19-66f5-4b39-8c6a-0fe9a43a0695"
   },
   "outputs": [],
   "source": [
    "con_data_train2.columns"
   ]
  },
  {
   "cell_type": "code",
   "execution_count": null,
   "id": "af50f3a8",
   "metadata": {
    "colab": {
     "base_uri": "https://localhost:8080/"
    },
    "id": "af50f3a8",
    "outputId": "009fcbeb-788b-4f38-d7a2-6d7d82339b1a",
    "scrolled": true
   },
   "outputs": [],
   "source": [
    "con_data_val.columns"
   ]
  },
  {
   "cell_type": "code",
   "execution_count": null,
   "id": "df164ec0",
   "metadata": {
    "colab": {
     "base_uri": "https://localhost:8080/"
    },
    "id": "df164ec0",
    "outputId": "4c400bc9-6b73-432b-8de2-71eccf174361"
   },
   "outputs": [],
   "source": [
    "con_data_test.columns"
   ]
  },
  {
   "cell_type": "code",
   "execution_count": null,
   "id": "1a104202",
   "metadata": {
    "id": "1a104202"
   },
   "outputs": [],
   "source": [
    "# # rename the columns for train\n",
    "# con_data_train2.rename(columns={'VendorID_1.0': 'creative_mobile_technologies_LLC',\n",
    "#                          'VendorID_2.0': 'verifone_inc',\n",
    "#                          'store_and_fwd_flag_N': 'not_a_store_and_forward_trip',\n",
    "#                          'store_and_fwd_flag_Y': 'store_and_forward_trip',\n",
    "# #                          'RatecodeID_1.0': 'standard_rate',\n",
    "# #                          'RatecodeID_2.0': 'JFK',\n",
    "# #                          'RatecodeID_3.0': 'newark',\n",
    "# #                          'RatecodeID_4.0': 'nassau_or_westchester',\n",
    "# #                          'RatecodeID_5.0': 'negotiated_fare',\n",
    "#                          'payment_type_1.0': 'credit_card',\n",
    "#                          'payment_type_2.0': 'cash',\n",
    "#                          'payment_type_3.0': 'no_charge',\n",
    "#                          'payment_type_4.0': 'dispute',\n",
    "#                          'payment_type_5.0': 'unknown',\n",
    "#                          'trip_type_1.0': 'street-hail',\n",
    "#                          'trip_type_2.0': 'dispatch',}, inplace= True)\n",
    "\n",
    "\n",
    "\n",
    "# # rename the columns for val\n",
    "# con_data_val.rename(columns={'VendorID_1.0': 'creative_mobile_technologies_LLC',\n",
    "#                          'VendorID_2.0': 'verifone_inc',\n",
    "#                          'store_and_fwd_flag_N': 'not_a_store_and_forward_trip',\n",
    "#                          'store_and_fwd_flag_Y': 'store_and_forward_trip',\n",
    "# #                          'RatecodeID_1.0': 'standard_rate',\n",
    "# #                          'RatecodeID_2.0': 'JFK',\n",
    "# #                          'RatecodeID_3.0': 'newark',\n",
    "# #                          'RatecodeID_4.0': 'nassau_or_westchester',\n",
    "# #                          'RatecodeID_5.0': 'negotiated_fare',\n",
    "#                          'payment_type_1.0': 'credit_card',\n",
    "#                          'payment_type_2.0': 'cash',\n",
    "#                          'payment_type_3.0': 'no_charge',\n",
    "#                          'payment_type_4.0': 'dispute',\n",
    "#                          'payment_type_5.0': 'unknown',\n",
    "#                          'trip_type_1.0': 'street-hail',\n",
    "#                          'trip_type_2.0': 'dispatch',}, inplace= True)\n",
    "\n",
    "\n",
    "\n",
    "# # rename the columns for test\n",
    "# con_data_test.rename(columns={'VendorID_1.0': 'creative_mobile_technologies_LLC',\n",
    "#                          'VendorID_2.0': 'verifone_inc',\n",
    "#                          'store_and_fwd_flag_N': 'not_a_store_and_forward_trip',\n",
    "#                          'store_and_fwd_flag_Y': 'store_and_forward_trip',\n",
    "# #                          'RatecodeID_1.0': 'standard_rate',\n",
    "# #                          'RatecodeID_2.0': 'JFK',\n",
    "# #                          'RatecodeID_3.0': 'newark',\n",
    "# #                          'RatecodeID_4.0': 'nassau_or_westchester',\n",
    "# #                          'RatecodeID_5.0': 'negotiated_fare',\n",
    "#                          'payment_type_1.0': 'credit_card',\n",
    "#                          'payment_type_2.0': 'cash',\n",
    "#                          'payment_type_3.0': 'no_charge',\n",
    "#                          'payment_type_4.0': 'dispute',\n",
    "#                          'payment_type_5.0': 'unknown',\n",
    "#                          'trip_type_1.0': 'street-hail',\n",
    "#                          'trip_type_2.0': 'dispatch',}, inplace= True)"
   ]
  },
  {
   "cell_type": "code",
   "execution_count": null,
   "id": "ca601090",
   "metadata": {
    "colab": {
     "base_uri": "https://localhost:8080/",
     "height": 289
    },
    "id": "ca601090",
    "outputId": "cc44b89f-c90e-4129-bf70-a2e5dc6c26c5"
   },
   "outputs": [],
   "source": [
    "con_data_train2.sample(7)"
   ]
  },
  {
   "cell_type": "code",
   "execution_count": null,
   "id": "35c2f9dc",
   "metadata": {
    "colab": {
     "base_uri": "https://localhost:8080/",
     "height": 289
    },
    "id": "35c2f9dc",
    "outputId": "292ca11e-c5d4-40c6-a3a3-86b63816ac20"
   },
   "outputs": [],
   "source": [
    "con_data_val.sample(7)"
   ]
  },
  {
   "cell_type": "code",
   "execution_count": null,
   "id": "a54d5379",
   "metadata": {
    "colab": {
     "base_uri": "https://localhost:8080/",
     "height": 289
    },
    "id": "a54d5379",
    "outputId": "c67fbd77-6fe4-4820-ab7c-b8a9bf0c940e"
   },
   "outputs": [],
   "source": [
    "con_data_test.sample(7)"
   ]
  },
  {
   "cell_type": "markdown",
   "id": "588d31a1",
   "metadata": {
    "id": "588d31a1"
   },
   "source": [
    "---\n",
    "## Visualize data"
   ]
  },
  {
   "cell_type": "code",
   "execution_count": null,
   "id": "5d4b01b9",
   "metadata": {
    "id": "5d4b01b9"
   },
   "outputs": [],
   "source": [
    "# sns.pairplot(con_data_train2);"
   ]
  },
  {
   "cell_type": "code",
   "execution_count": null,
   "id": "6e22ed64",
   "metadata": {
    "colab": {
     "base_uri": "https://localhost:8080/",
     "height": 515
    },
    "id": "6e22ed64",
    "outputId": "928c8bf3-71f0-444d-81c7-5fa858f322fd"
   },
   "outputs": [],
   "source": [
    "# frequency of fare_amount\n",
    "plt.figure(figsize=(8, 6))\n",
    "sns.histplot(con_data_train2['fare_amount'], bins = 75, color ='#c15a3a' , stat='density');\n",
    "#sns.kdeplot(con_data_train2['fare_amount'], color='#533e98');\n",
    "plt.xlabel('Fare amount');\n",
    "plt.grid(axis='y', lw = 0.25);"
   ]
  },
  {
   "cell_type": "code",
   "execution_count": null,
   "id": "0fb3bc67",
   "metadata": {
    "colab": {
     "base_uri": "https://localhost:8080/",
     "height": 1000
    },
    "id": "0fb3bc67",
    "outputId": "6da3dd8e-8749-4439-cc74-b4b275a40fe3"
   },
   "outputs": [],
   "source": [
    "fig1=plt.figure(figsize=(8, 6))\n",
    "ax5=fig1.add_subplot(1,1,1)\n",
    "ax5.scatter(con_data_train2.trip_distance, con_data_train2.fare_amount, color='#533e98',alpha=0.2)\n",
    "ax5.set_title('The graph of payment depending on the trip distance')\n",
    "ax5.set_xlabel('Day of the week')\n",
    "ax5.set_ylabel('Payment');\n",
    "\n",
    "fig2=plt.figure(figsize=(8, 6))\n",
    "#ax5=fig2.add_subplot(1,1,1)\n",
    "#\n",
    "\n",
    "\n",
    "data=[con_data_train2.passenger_count, con_data_train2.fare_amount]\n",
    "plt.boxplot(data)\n",
    "plt.show()\n",
    "#\n",
    "\n",
    "#ax5.scatter(con_data_train2.passenger_count, con_data_train2.fare_amount, color='#c15a3a',alpha=0.2)\n",
    "ax5.set_title('The graph of payment depending on the number of passengers');\n",
    "ax5.set_xlabel('Number of passengers')\n",
    "ax5.set_ylabel('Payment');"
   ]
  },
  {
   "cell_type": "code",
   "execution_count": null,
   "id": "a056a4be",
   "metadata": {
    "colab": {
     "base_uri": "https://localhost:8080/",
     "height": 237
    },
    "id": "a056a4be",
    "outputId": "2e4afdef-5c91-4f16-e27e-13d4c1528f44"
   },
   "outputs": [],
   "source": [
    "con_data_train2['passenger_count'].value_counts().reset_index()"
   ]
  },
  {
   "cell_type": "code",
   "execution_count": null,
   "id": "7521b27f",
   "metadata": {
    "colab": {
     "base_uri": "https://localhost:8080/",
     "height": 237
    },
    "id": "7521b27f",
    "outputId": "aba7cd28-bffb-410d-b1d1-759f93b2f47b"
   },
   "outputs": [],
   "source": [
    "con_data_val['passenger_count'].value_counts().reset_index()"
   ]
  },
  {
   "cell_type": "code",
   "execution_count": null,
   "id": "a96819ab",
   "metadata": {
    "colab": {
     "base_uri": "https://localhost:8080/",
     "height": 237
    },
    "id": "a96819ab",
    "outputId": "567ffc04-1571-4b0c-f611-6e3b27bcd490"
   },
   "outputs": [],
   "source": [
    "con_data_test['passenger_count'].value_counts().reset_index()"
   ]
  },
  {
   "cell_type": "code",
   "execution_count": null,
   "id": "369fc923",
   "metadata": {
    "id": "369fc923"
   },
   "outputs": [],
   "source": [
    "# # # relationship between hour_dropoff and fare_amount\n",
    "# # # plot(x = con_data_train2['hour_dropoff'], y = con_data_train2['fare_amount'])\n",
    "# con_data_train2.plot(x='fare_amount', y=['hour_pickup','hour_dropoff'], kind='barh');"
   ]
  },
  {
   "cell_type": "code",
   "execution_count": null,
   "id": "b38399f4",
   "metadata": {
    "id": "b38399f4"
   },
   "outputs": [],
   "source": [
    "# con_data_train2.plot(x='fare_amount', y=['not_a_store_and_forward_trip','store_and_forward_trip'], kind='barh');"
   ]
  },
  {
   "cell_type": "code",
   "execution_count": null,
   "id": "d8bb4c80",
   "metadata": {
    "colab": {
     "base_uri": "https://localhost:8080/",
     "height": 313
    },
    "id": "d8bb4c80",
    "outputId": "13ad68e1-24ed-4330-dd9d-a5d021b25db4",
    "scrolled": true
   },
   "outputs": [],
   "source": [
    "# taxi trip repartition by hour of the day\n",
    "sns.catplot(x='hour_pickup', kind='count', palette='icefire', data=con_data_train2, height=3, aspect=3);\n",
    "plt.title('Hour of Day');"
   ]
  },
  {
   "cell_type": "code",
   "execution_count": null,
   "id": "e8a0aaf4",
   "metadata": {
    "id": "e8a0aaf4",
    "scrolled": true
   },
   "outputs": [],
   "source": [
    "# # taxi trip repartition by pickup month\n",
    "# sns.catplot(x=['month_pickup','month_dropoff'], kind='count', palette='icefire', data=con_data_train2, height=3, aspect=3);\n",
    "# plt.title('Pickup Month');"
   ]
  },
  {
   "cell_type": "markdown",
   "id": "5a452289",
   "metadata": {
    "id": "5a452289"
   },
   "source": [
    "1. Does the number of passengers affect the fare?"
   ]
  },
  {
   "cell_type": "code",
   "execution_count": null,
   "id": "ec074b6e",
   "metadata": {
    "colab": {
     "base_uri": "https://localhost:8080/",
     "height": 515
    },
    "id": "ec074b6e",
    "outputId": "74329dd0-622e-4d8b-f7da-2fc809b70265",
    "scrolled": false
   },
   "outputs": [],
   "source": [
    "plt.figure(figsize=(8,6))\n",
    "plt.hist(con_data_train2['passenger_count'], bins=100, color='#533e98' )\n",
    "plt.xlabel('No. of Passengers')\n",
    "plt.ylabel('Frequency');"
   ]
  },
  {
   "cell_type": "code",
   "execution_count": null,
   "id": "524c2e6f",
   "metadata": {
    "colab": {
     "base_uri": "https://localhost:8080/",
     "height": 515
    },
    "id": "524c2e6f",
    "outputId": "b7880363-b93c-4751-85d9-8cccd56cd635"
   },
   "outputs": [],
   "source": [
    "plt.figure(figsize=(8,6))\n",
    "plt.scatter(x=con_data_train2['passenger_count'], y=con_data_train2['fare_amount'], s=10, color='#c15a3a',alpha=0.2)\n",
    "plt.xlabel('No. of Passengers')\n",
    "plt.ylabel('Fare');"
   ]
  },
  {
   "cell_type": "markdown",
   "id": "fa9b234f",
   "metadata": {
    "id": "fa9b234f"
   },
   "source": [
    "2. Does the time of pickup affect the fare?"
   ]
  },
  {
   "cell_type": "code",
   "execution_count": null,
   "id": "10165579",
   "metadata": {
    "colab": {
     "base_uri": "https://localhost:8080/",
     "height": 520
    },
    "id": "10165579",
    "outputId": "4a6634e9-1ada-4861-ae55-b170bce40102"
   },
   "outputs": [],
   "source": [
    "plt.figure(figsize=(8,6))\n",
    "plt.hist(con_data_train2['hour_pickup'], bins=100, color='#533e98')\n",
    "plt.xlabel('Hour Pickup')\n",
    "plt.ylabel('Frequency');"
   ]
  },
  {
   "cell_type": "code",
   "execution_count": null,
   "id": "6a932c85",
   "metadata": {
    "colab": {
     "base_uri": "https://localhost:8080/",
     "height": 515
    },
    "id": "6a932c85",
    "outputId": "b2e55717-34e2-4e1c-a351-26babbc393a8"
   },
   "outputs": [],
   "source": [
    "plt.figure(figsize=(8,6))\n",
    "plt.scatter(x=con_data_train2['hour_pickup'], y=con_data_train2['fare_amount'], s=10, color='#c15a3a',alpha=0.2)\n",
    "plt.xlabel('Hour Pickup')\n",
    "plt.ylabel('Fare');"
   ]
  },
  {
   "cell_type": "markdown",
   "id": "86d3c684",
   "metadata": {
    "id": "86d3c684"
   },
   "source": [
    "3. Does the day of the week affect the fare?"
   ]
  },
  {
   "cell_type": "code",
   "execution_count": null,
   "id": "f0e17c7d",
   "metadata": {
    "colab": {
     "base_uri": "https://localhost:8080/",
     "height": 515
    },
    "id": "f0e17c7d",
    "outputId": "40b04eb8-49e7-4d12-d00a-cd50f15a7f10"
   },
   "outputs": [],
   "source": [
    "plt.figure(figsize=(8,6))\n",
    "plt.hist(con_data_train2['week_day_pickup'], bins=100, color='#533e98')\n",
    "plt.xlabel('Day pickup of Week')\n",
    "plt.ylabel('Frequency');"
   ]
  },
  {
   "cell_type": "markdown",
   "id": "a407887c",
   "metadata": {
    "id": "a407887c"
   },
   "source": [
    " day of the week doesn't seem to have that much of an influence on the number of cab rides."
   ]
  },
  {
   "cell_type": "code",
   "execution_count": null,
   "id": "aec79d79",
   "metadata": {
    "colab": {
     "base_uri": "https://localhost:8080/",
     "height": 515
    },
    "id": "aec79d79",
    "outputId": "4f7f81d3-0283-4a15-a93e-c02a67e1f826",
    "scrolled": true
   },
   "outputs": [],
   "source": [
    "plt.figure(figsize=(8,6))\n",
    "plt.scatter(x=con_data_train2['week_day_pickup'], y=con_data_train2['fare_amount'], s=10, color='#c15a3a',alpha=0.2)\n",
    "plt.xlabel('Day pickup of Week')\n",
    "plt.ylabel('Fare');"
   ]
  },
  {
   "cell_type": "markdown",
   "id": "f6485f8d",
   "metadata": {
    "id": "f6485f8d"
   },
   "source": [
    "---\n",
    "## Scaling\n",
    "scaling the features makes interpretation of regression coefficients easier"
   ]
  },
  {
   "cell_type": "code",
   "execution_count": null,
   "id": "ad9f21ea",
   "metadata": {
    "colab": {
     "base_uri": "https://localhost:8080/"
    },
    "id": "ad9f21ea",
    "outputId": "765f4b19-a4a9-4a2d-c8a3-12dfef4b9012"
   },
   "outputs": [],
   "source": [
    "con_data_val.shape"
   ]
  },
  {
   "cell_type": "code",
   "execution_count": null,
   "id": "dc778062",
   "metadata": {
    "colab": {
     "base_uri": "https://localhost:8080/"
    },
    "id": "dc778062",
    "outputId": "baeca174-c549-42ab-d525-8041a517ebb8"
   },
   "outputs": [],
   "source": [
    "con_data_train2.shape"
   ]
  },
  {
   "cell_type": "code",
   "execution_count": null,
   "id": "UoVuMVaH-_YW",
   "metadata": {
    "colab": {
     "base_uri": "https://localhost:8080/"
    },
    "id": "UoVuMVaH-_YW",
    "outputId": "e48e6f47-54c9-4f66-9cd6-d269b9f7077d"
   },
   "outputs": [],
   "source": [
    "con_data_test.shape"
   ]
  },
  {
   "cell_type": "code",
   "execution_count": null,
   "id": "67fdac9c",
   "metadata": {
    "id": "67fdac9c"
   },
   "outputs": [],
   "source": [
    "scaler = StandardScaler()\n",
    "\n",
    "con_data_train2[con_data_train2.columns]=scaler.fit_transform(con_data_train2[con_data_train2.columns])\n",
    "con_data_val[con_data_val.columns]=scaler.transform(con_data_val[con_data_val.columns])\n",
    "# con_data_test[con_data_test.columns]=scaler.transform(con_data_test[con_data_test.columns])\n",
    "\n",
    "X_train=con_data_train2.drop('fare_amount',axis=1)\n",
    "y_train=con_data_train2['fare_amount']\n",
    "X_val=con_data_val.drop('fare_amount',axis=1)\n",
    "y_val=con_data_val['fare_amount']\n",
    "# X_test=con_data_test.drop('fare_amount',axis=1)\n",
    "# y_test=con_data_test['fare_amount']"
   ]
  },
  {
   "cell_type": "code",
   "execution_count": null,
   "id": "902f40f9",
   "metadata": {
    "colab": {
     "base_uri": "https://localhost:8080/"
    },
    "id": "902f40f9",
    "outputId": "ad586ae9-e5ce-4ccc-ea42-58efe7c30973"
   },
   "outputs": [],
   "source": [
    "print(\"Length of the X_train = \",len(X_train))\n",
    "print(\"Length of the y_train = \",len(y_train))\n",
    "# print(\"Length of the X_test = \",len(X_test))\n",
    "# print(\"Length of the y_test = \",len(y_test))\n",
    "print(\"Length of the y_val = \",len(y_val))\n",
    "print(\"Length of the y_val = \",len(y_val))"
   ]
  },
  {
   "cell_type": "markdown",
   "id": "ed6efd1d",
   "metadata": {
    "id": "ed6efd1d"
   },
   "source": [
    "---\n",
    "### Model Building\n",
    "Model with all features"
   ]
  },
  {
   "cell_type": "code",
   "execution_count": null,
   "id": "ec579d45",
   "metadata": {
    "colab": {
     "base_uri": "https://localhost:8080/"
    },
    "id": "ec579d45",
    "outputId": "65a955e0-2989-44d8-97b8-751f0157b723"
   },
   "outputs": [],
   "source": [
    "seed = 199\n",
    "lm = LinearRegression()\n",
    "lm1 = lm.fit(X_train,y_train)\n",
    "y_pred_val = lm1.predict(X_val)\n",
    "y_pred_train = lm1.predict(X_train)\n",
    "# y_pred_test = lm1.predict(X_test)\n",
    "print(\"R-sq of training set = \",lm1.score(X_train,y_train))"
   ]
  },
  {
   "cell_type": "code",
   "execution_count": null,
   "id": "a1777d79",
   "metadata": {
    "colab": {
     "base_uri": "https://localhost:8080/"
    },
    "id": "a1777d79",
    "outputId": "2ad29219-fc4b-426f-d657-ccfcc0972342"
   },
   "outputs": [],
   "source": [
    "print(\"R-sq of validation set = \",lm1.score(X_val,y_val))"
   ]
  },
  {
   "cell_type": "code",
   "execution_count": null,
   "id": "eda29c90",
   "metadata": {
    "id": "eda29c90"
   },
   "outputs": [],
   "source": [
    "# plot\n",
    "pred = lm.predict(X_train) \n",
    "#sns.jointplot(x= pred, y= y_train, kind='reg', color='#c15a3a');"
   ]
  },
  {
   "cell_type": "code",
   "execution_count": null,
   "id": "ebaa1d87",
   "metadata": {
    "id": "ebaa1d87"
   },
   "outputs": [],
   "source": [
    "# from sklearn import metrics\n",
    "#print('\\nLinear Regression Performance Metrics')\n",
    "#print('R^2=',metrics.explained_variance_score(y_test,y_pred_lm))\n",
    "# print('MAE:',metrics.mean_absolute_error(y_test,y_pred_lm))\n",
    "# print('MSE:',metrics.mean_squared_error(y_test,y_pred_lm))\n",
    "# print('RMSE:',np.sqrt(metrics.mean_squared_error(y_test,y_pred_lm)))"
   ]
  },
  {
   "cell_type": "code",
   "execution_count": null,
   "id": "8c6e298e",
   "metadata": {
    "colab": {
     "base_uri": "https://localhost:8080/"
    },
    "id": "8c6e298e",
    "outputId": "029d5769-361c-4268-aa49-80c8c939c491"
   },
   "outputs": [],
   "source": [
    "y_pred_train.shape"
   ]
  },
  {
   "cell_type": "code",
   "execution_count": null,
   "id": "b3ec94e8",
   "metadata": {
    "colab": {
     "base_uri": "https://localhost:8080/"
    },
    "id": "b3ec94e8",
    "outputId": "e7f58530-4dcb-478a-9e8e-a2355db0659c"
   },
   "outputs": [],
   "source": [
    "y_train.shape"
   ]
  },
  {
   "cell_type": "code",
   "execution_count": null,
   "id": "e5a1d36f",
   "metadata": {
    "colab": {
     "base_uri": "https://localhost:8080/"
    },
    "id": "e5a1d36f",
    "outputId": "2b55cfa5-79e4-4654-ad60-d42dd7f5afc3"
   },
   "outputs": [],
   "source": [
    "X_train.shape "
   ]
  },
  {
   "cell_type": "code",
   "execution_count": null,
   "id": "55ecee34",
   "metadata": {
    "colab": {
     "base_uri": "https://localhost:8080/"
    },
    "id": "55ecee34",
    "outputId": "4fe58aca-47db-4a9f-9e0b-1975572e34ab"
   },
   "outputs": [],
   "source": [
    "X_val.shape"
   ]
  },
  {
   "cell_type": "code",
   "execution_count": null,
   "id": "b3f704e7",
   "metadata": {
    "colab": {
     "base_uri": "https://localhost:8080/"
    },
    "id": "b3f704e7",
    "outputId": "3d8083fc-cda0-49ed-b29c-9572691f1740"
   },
   "outputs": [],
   "source": [
    "y_val.shape"
   ]
  },
  {
   "cell_type": "markdown",
   "id": "a11018a9",
   "metadata": {
    "id": "a11018a9"
   },
   "source": [
    "---\n",
    "## Ridge Regularization"
   ]
  },
  {
   "cell_type": "code",
   "execution_count": null,
   "id": "617bb937",
   "metadata": {
    "colab": {
     "base_uri": "https://localhost:8080/"
    },
    "id": "617bb937",
    "outputId": "47d0b631-33eb-4685-93e9-20686a6bca49"
   },
   "outputs": [],
   "source": [
    "#  train data\n",
    "lr_model_ridge = Ridge(alpha = 100)\n",
    "lr_model_ridge.fit(X_train, y_train)\n",
    "lm_model_ridge.score(X_train, y_train)\n",
    "\n",
    "\n"
   ]
  },
  {
   "cell_type": "code",
   "execution_count": null,
   "id": "JyiTmg4y8-ut",
   "metadata": {
    "colab": {
     "base_uri": "https://localhost:8080/"
    },
    "id": "JyiTmg4y8-ut",
    "outputId": "1f41a3ad-8027-45ea-de6b-44a3ae1a199b"
   },
   "outputs": [],
   "source": [
    "#  val data \n",
    "lm_model_ridge = Ridge(alpha = 100)\n",
    "lm_model_ridge.fit(X_train, y_train)\n",
    "lm_model_ridge.score(X_val, y_val)"
   ]
  },
  {
   "cell_type": "code",
   "execution_count": null,
   "id": "60ecb9c7",
   "metadata": {
    "id": "60ecb9c7"
   },
   "outputs": [],
   "source": [
    "#Mean Absolute Error (MAE)\n",
    "def mae(y_true, y_pred):\n",
    "    return np.mean(np.abs(y_pred - y_true)) \n"
   ]
  },
  {
   "cell_type": "code",
   "execution_count": null,
   "id": "2bab3d6f",
   "metadata": {
    "id": "2bab3d6f"
   },
   "outputs": [],
   "source": [
    "alphalist = 10**(np.linspace(-2,2,200))\n",
    "err_vec_val = np.zeros(len(alphalist))\n",
    "err_vec_train = np.zeros(len(alphalist))\n",
    "\n",
    "for i,curr_alpha in enumerate(alphalist):\n",
    "\n",
    "    \n",
    "    steps = [('standardize', StandardScaler()), \n",
    "             ('Ridge', Ridge(alpha = curr_alpha))]\n",
    "\n",
    "    pipe = Pipeline(steps)\n",
    "    pipe.fit(X_train.loc[:,:].values, y_train)\n",
    "    \n",
    "    val_set_pred = pipe.predict(X_val.loc[:,:].values)\n",
    "    err_vec_val[i] = mae(y_val, val_set_pred)"
   ]
  },
  {
   "cell_type": "code",
   "execution_count": null,
   "id": "37c7f2ac",
   "metadata": {
    "id": "37c7f2ac"
   },
   "outputs": [],
   "source": [
    "plt.figure(figsize=(8,6))\n",
    "plt.plot(np.log10(alphalist), err_vec_val, color='#c15a3a');"
   ]
  },
  {
   "cell_type": "code",
   "execution_count": null,
   "id": "80784a65",
   "metadata": {
    "id": "80784a65"
   },
   "outputs": [],
   "source": [
    "np.min(err_vec_val)"
   ]
  },
  {
   "cell_type": "code",
   "execution_count": null,
   "id": "ec150eec",
   "metadata": {
    "id": "ec150eec"
   },
   "outputs": [],
   "source": [
    "alphalist[np.argmin(err_vec_val)]"
   ]
  },
  {
   "cell_type": "markdown",
   "id": "e6a330d9",
   "metadata": {
    "id": "e6a330d9"
   },
   "source": [
    "## Polynomial"
   ]
  },
  {
   "cell_type": "markdown",
   "id": "af4fafbe",
   "metadata": {
    "id": "af4fafbe"
   },
   "source": [
    "---"
   ]
  },
  {
   "cell_type": "code",
   "execution_count": null,
   "id": "e41fc181",
   "metadata": {
    "id": "e41fc181"
   },
   "outputs": [],
   "source": [
    "# for train\n",
    "x_ = PolynomialFeatures(degree=2, include_bias=False).fit_transform(X_train)"
   ]
  },
  {
   "cell_type": "code",
   "execution_count": null,
   "id": "3059bdcc",
   "metadata": {
    "id": "3059bdcc"
   },
   "outputs": [],
   "source": [
    "print(x_)"
   ]
  },
  {
   "cell_type": "code",
   "execution_count": null,
   "id": "4769502f",
   "metadata": {
    "id": "4769502f"
   },
   "outputs": [],
   "source": [
    "model = LinearRegression().fit(x_, y_train)"
   ]
  },
  {
   "cell_type": "code",
   "execution_count": null,
   "id": "7effa255",
   "metadata": {
    "id": "7effa255"
   },
   "outputs": [],
   "source": [
    "r_sq = model.score(x_, y_train)"
   ]
  },
  {
   "cell_type": "code",
   "execution_count": null,
   "id": "c698ea1d",
   "metadata": {
    "id": "c698ea1d"
   },
   "outputs": [],
   "source": [
    "print('coefficient of determination:', r_sq)"
   ]
  },
  {
   "cell_type": "code",
   "execution_count": null,
   "id": "477edb14",
   "metadata": {
    "id": "477edb14"
   },
   "outputs": [],
   "source": [
    "print('intercept:', model.intercept_)"
   ]
  },
  {
   "cell_type": "code",
   "execution_count": null,
   "id": "35db4a16",
   "metadata": {
    "id": "35db4a16"
   },
   "outputs": [],
   "source": [
    "# for val\n",
    "x_ = PolynomialFeatures(degree=2, include_bias=False).fit_transform(X_val)"
   ]
  },
  {
   "cell_type": "code",
   "execution_count": null,
   "id": "a1d400e8",
   "metadata": {
    "id": "a1d400e8"
   },
   "outputs": [],
   "source": [
    "model = LinearRegression().fit(x_, y_val)"
   ]
  },
  {
   "cell_type": "code",
   "execution_count": null,
   "id": "fff83a67",
   "metadata": {
    "id": "fff83a67"
   },
   "outputs": [],
   "source": [
    "r_sq = model.score(x_, y_val)"
   ]
  },
  {
   "cell_type": "code",
   "execution_count": null,
   "id": "fa9c7308",
   "metadata": {
    "id": "fa9c7308"
   },
   "outputs": [],
   "source": [
    "print('coefficient of determination:', r_sq)"
   ]
  },
  {
   "cell_type": "code",
   "execution_count": null,
   "id": "f2c391ab",
   "metadata": {
    "id": "f2c391ab"
   },
   "outputs": [],
   "source": [
    "print('intercept:', model.intercept_)"
   ]
  },
  {
   "cell_type": "code",
   "execution_count": null,
   "id": "4af51236",
   "metadata": {
    "id": "4af51236"
   },
   "outputs": [],
   "source": []
  }
 ],
 "metadata": {
  "colab": {
   "name": "Regression project.ipynb",
   "provenance": []
  },
  "kernelspec": {
   "display_name": "Python 3",
   "language": "python",
   "name": "python3"
  },
  "language_info": {
   "codemirror_mode": {
    "name": "ipython",
    "version": 3
   },
   "file_extension": ".py",
   "mimetype": "text/x-python",
   "name": "python",
   "nbconvert_exporter": "python",
   "pygments_lexer": "ipython3",
   "version": "3.8.8"
  }
 },
 "nbformat": 4,
 "nbformat_minor": 5
}

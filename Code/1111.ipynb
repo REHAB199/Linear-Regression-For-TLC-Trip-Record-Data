{
 "cells": [
  {
   "cell_type": "code",
   "execution_count": null,
   "id": "4f8c8b65",
   "metadata": {},
   "outputs": [],
   "source": [
    "import pandas as pd\n",
    "import numpy as np\n",
    "import statsmodels.api as sm\n",
    "import statsmodels.formula.api as smf\n",
    "import patsy\n",
    "\n",
    "import seaborn as sns\n",
    "import matplotlib.pyplot as plt\n",
    "from sklearn.linear_model import LinearRegression\n",
    "from sklearn.linear_model import RidgeCV\n",
    "%matplotlib inline\n",
    "%config InlineBackend.figure_format = 'svg'\n",
    "\n",
    "from sklearn.model_selection import train_test_split\n",
    "from sklearn.linear_model import LinearRegression, Ridge \n",
    "from sklearn.preprocessing import StandardScaler, PolynomialFeatures\n",
    "\n",
    "import warnings\n",
    "warnings.filterwarnings('ignore')"
   ]
  },
  {
   "cell_type": "code",
   "execution_count": null,
   "id": "2c53d026",
   "metadata": {},
   "outputs": [],
   "source": [
    "df1= pd.read_csv('green_tripdata-one-.csv')\n",
    "df1"
   ]
  },
  {
   "cell_type": "code",
   "execution_count": null,
   "id": "511a8b07",
   "metadata": {},
   "outputs": [],
   "source": [
    "df2= pd.read_csv('green_tripdata_two-.csv')\n",
    "df2"
   ]
  },
  {
   "cell_type": "code",
   "execution_count": null,
   "id": "d867da66",
   "metadata": {},
   "outputs": [],
   "source": [
    "con_data= pd.concat([df1,df2])   # concat two dataset\n",
    "con_data.head(10)"
   ]
  },
  {
   "cell_type": "code",
   "execution_count": null,
   "id": "395a1ca8",
   "metadata": {},
   "outputs": [],
   "source": [
    "con_data.shape"
   ]
  },
  {
   "cell_type": "code",
   "execution_count": null,
   "id": "fd255a22",
   "metadata": {
    "scrolled": false
   },
   "outputs": [],
   "source": [
    "con_data.info()"
   ]
  },
  {
   "cell_type": "markdown",
   "id": "8620761d",
   "metadata": {},
   "source": [
    "---\n",
    "### working on datetime"
   ]
  },
  {
   "cell_type": "code",
   "execution_count": null,
   "id": "bbc38346",
   "metadata": {},
   "outputs": [],
   "source": [
    "con_data['lpep_pickup_datetime'].nunique()"
   ]
  },
  {
   "cell_type": "code",
   "execution_count": null,
   "id": "dbcc618c",
   "metadata": {},
   "outputs": [],
   "source": [
    "con_data['lpep_dropoff_datetime'].nunique()"
   ]
  },
  {
   "cell_type": "code",
   "execution_count": null,
   "id": "8c746995",
   "metadata": {},
   "outputs": [],
   "source": [
    "# convert type to datetime\n",
    "con_data['lpep_pickup_datetime']= pd.to_datetime(con_data['lpep_pickup_datetime'],format=\"%Y-%m-%d %H:%M:%S\")"
   ]
  },
  {
   "cell_type": "code",
   "execution_count": null,
   "id": "f71fdaca",
   "metadata": {},
   "outputs": [],
   "source": [
    "# convert type to datetime\n",
    "con_data['lpep_dropoff_datetime']= pd.to_datetime(con_data['lpep_dropoff_datetime'],format=\"%Y-%m-%d %H:%M:%S\") "
   ]
  },
  {
   "cell_type": "code",
   "execution_count": null,
   "id": "8c0754c2",
   "metadata": {},
   "outputs": [],
   "source": [
    "con_data.dtypes"
   ]
  },
  {
   "cell_type": "code",
   "execution_count": null,
   "id": "f9dc6006",
   "metadata": {},
   "outputs": [],
   "source": [
    "#extract month\n",
    "\n",
    "con_data[\"month\"] = pd.DatetimeIndex(con_data[\"lpep_pickup_datetime\"]).month\n",
    "con_data['month_name']=con_data['month'].map({1:\"JAN\",2:\"FEB\"})\n",
    "\n",
    "#extract week day \n",
    "con_data[\"week_day_pickup\"]= con_data[\"lpep_pickup_datetime\"].dt.weekday\n",
    "\n",
    "#extract day \n",
    "con_data[\"day_pickup\"]= con_data[\"lpep_pickup_datetime\"].dt.day\n",
    "\n",
    "#extract hour\n",
    "con_data[\"hour_pickup\"]= con_data[\"lpep_pickup_datetime\"].dt.hour \n",
    "\n",
    "con_data =con_data.sort_values(by = \"lpep_pickup_datetime\",ascending = False)\n"
   ]
  },
  {
   "cell_type": "code",
   "execution_count": null,
   "id": "ad0cbec2",
   "metadata": {},
   "outputs": [],
   "source": [
    "con_data.head()"
   ]
  },
  {
   "cell_type": "code",
   "execution_count": null,
   "id": "9af7a815",
   "metadata": {},
   "outputs": [],
   "source": [
    "#extract month\n",
    "\n",
    "con_data[\"month_dropoff\"] = pd.DatetimeIndex(con_data[\"lpep_dropoff_datetime\"]).month\n",
    "con_data['month_name_dropoff']=con_data['month'].map({1:\"JAN\",2:\"FEB\"})\n",
    "\n",
    "#extract week day \n",
    "con_data[\"week_day_dropoff\"]= con_data[\"lpep_dropoff_datetime\"].dt.weekday\n",
    "\n",
    "#extract day \n",
    "con_data[\"day_dropoff\"]= con_data[\"lpep_dropoff_datetime\"].dt.day\n",
    "\n",
    "#extract hour\n",
    "con_data[\"hour_dropoff\"]= con_data[\"lpep_dropoff_datetime\"].dt.hour \n",
    "\n",
    "con_data =con_data.sort_values(by = \"lpep_dropoff_datetime\",ascending = False)\n"
   ]
  },
  {
   "cell_type": "code",
   "execution_count": null,
   "id": "b968bac2",
   "metadata": {},
   "outputs": [],
   "source": [
    "con_data.head()"
   ]
  },
  {
   "cell_type": "code",
   "execution_count": null,
   "id": "86d8f48e",
   "metadata": {},
   "outputs": [],
   "source": [
    "con_data.sample(4)"
   ]
  },
  {
   "cell_type": "code",
   "execution_count": null,
   "id": "4f53e427",
   "metadata": {},
   "outputs": [],
   "source": [
    "con_data.drop(columns=['month_name', 'month_name_dropoff'], inplace=True)"
   ]
  },
  {
   "cell_type": "code",
   "execution_count": null,
   "id": "ada28088",
   "metadata": {
    "scrolled": true
   },
   "outputs": [],
   "source": [
    "con_data.describe()"
   ]
  },
  {
   "cell_type": "markdown",
   "id": "8da4536a",
   "metadata": {},
   "source": [
    "---\n",
    "---\n",
    "### working on (VendorID, store_and_fwd_flag, RatecodeID, payment_type, trip_type) columns to get dummies "
   ]
  },
  {
   "cell_type": "code",
   "execution_count": null,
   "id": "f9b3fd71",
   "metadata": {},
   "outputs": [],
   "source": [
    "con_data.shape"
   ]
  },
  {
   "cell_type": "code",
   "execution_count": null,
   "id": "2bc4cfa5",
   "metadata": {},
   "outputs": [],
   "source": [
    "con_data['VendorID'].nunique()"
   ]
  },
  {
   "cell_type": "code",
   "execution_count": null,
   "id": "244086d7",
   "metadata": {},
   "outputs": [],
   "source": [
    "con_data['VendorID'].dtypes"
   ]
  },
  {
   "cell_type": "code",
   "execution_count": null,
   "id": "265a7f35",
   "metadata": {},
   "outputs": [],
   "source": [
    "# VendorID type conversion to get dummies\n",
    "con_data['VendorID'] = con_data.VendorID.astype('category')"
   ]
  },
  {
   "cell_type": "code",
   "execution_count": null,
   "id": "694e0bd0",
   "metadata": {},
   "outputs": [],
   "source": [
    "con_data['store_and_fwd_flag'].nunique()"
   ]
  },
  {
   "cell_type": "code",
   "execution_count": null,
   "id": "ce23db87",
   "metadata": {},
   "outputs": [],
   "source": [
    "con_data['store_and_fwd_flag'].dtypes"
   ]
  },
  {
   "cell_type": "code",
   "execution_count": null,
   "id": "e7b68615",
   "metadata": {},
   "outputs": [],
   "source": [
    "con_data['RatecodeID'].nunique()"
   ]
  },
  {
   "cell_type": "code",
   "execution_count": null,
   "id": "b81fe604",
   "metadata": {},
   "outputs": [],
   "source": [
    "con_data['RatecodeID'].dtypes"
   ]
  },
  {
   "cell_type": "code",
   "execution_count": null,
   "id": "7a1c99de",
   "metadata": {},
   "outputs": [],
   "source": [
    "# RatecodeID type conversion to get dummies\n",
    "con_data['RatecodeID'] = con_data.RatecodeID.astype('category')"
   ]
  },
  {
   "cell_type": "code",
   "execution_count": null,
   "id": "bd901b9b",
   "metadata": {},
   "outputs": [],
   "source": [
    "con_data['payment_type'].nunique()"
   ]
  },
  {
   "cell_type": "code",
   "execution_count": null,
   "id": "38971c5c",
   "metadata": {},
   "outputs": [],
   "source": [
    "con_data['payment_type'].dtypes"
   ]
  },
  {
   "cell_type": "code",
   "execution_count": null,
   "id": "61b0f9e8",
   "metadata": {},
   "outputs": [],
   "source": [
    "# payment_type type conversion to get dummies\n",
    "con_data['payment_type'] = con_data.payment_type.astype('category')"
   ]
  },
  {
   "cell_type": "code",
   "execution_count": null,
   "id": "cef25e85",
   "metadata": {},
   "outputs": [],
   "source": [
    "con_data['trip_type'].nunique()"
   ]
  },
  {
   "cell_type": "code",
   "execution_count": null,
   "id": "6b667acb",
   "metadata": {},
   "outputs": [],
   "source": [
    "con_data['trip_type'].dtypes"
   ]
  },
  {
   "cell_type": "code",
   "execution_count": null,
   "id": "ccb69ea2",
   "metadata": {},
   "outputs": [],
   "source": [
    "# trip_type type conversion to get dummies\n",
    "con_data['trip_type'] = con_data.trip_type.astype('category')"
   ]
  },
  {
   "cell_type": "code",
   "execution_count": null,
   "id": "babb20a1",
   "metadata": {},
   "outputs": [],
   "source": []
  },
  {
   "cell_type": "code",
   "execution_count": null,
   "id": "5e52192b",
   "metadata": {},
   "outputs": [],
   "source": [
    "con_data = pd.get_dummies(con_data)"
   ]
  },
  {
   "cell_type": "code",
   "execution_count": null,
   "id": "7053e369",
   "metadata": {},
   "outputs": [],
   "source": [
    "con_data"
   ]
  },
  {
   "cell_type": "code",
   "execution_count": null,
   "id": "d944158d",
   "metadata": {},
   "outputs": [],
   "source": [
    "con_data.shape"
   ]
  },
  {
   "cell_type": "code",
   "execution_count": null,
   "id": "f9b776ad",
   "metadata": {},
   "outputs": [],
   "source": [
    "con_data.columns"
   ]
  },
  {
   "cell_type": "code",
   "execution_count": null,
   "id": "7f6208dd",
   "metadata": {
    "scrolled": false
   },
   "outputs": [],
   "source": [
    "# renames the columns.\n",
    "con_data.rename(columns={'VendorID_1.0': 'creative_mobile_technologies_LLC',\n",
    "                         'VendorID_2.0': 'verifone_inc',\n",
    "                         'store_and_fwd_flag_N': 'not_a_store_and_forward_trip',\n",
    "                         'store_and_fwd_flag_Y': 'store_and_forward_trip',\n",
    "                         'RatecodeID_1.0': 'standard_rate',\n",
    "                         'RatecodeID_2.0': 'JFK',\n",
    "                         'RatecodeID_3.0': 'newark',\n",
    "                         'RatecodeID_4.0': 'nassau_or_westchester',\n",
    "                         'RatecodeID_5.0': 'negotiated_fare',\n",
    "                         'RatecodeID_99.0': 'group_ride',\n",
    "                         'payment_type_1.0': 'credit_card',\n",
    "                         'payment_type_2.0': 'cash',\n",
    "                         'payment_type_3.0': 'no_charge',\n",
    "                         'payment_type_4.0': 'dispute',\n",
    "                         'payment_type_5.0': 'unknown',\n",
    "                         'trip_type_1.0': 'street-hail',\n",
    "                         'trip_type_2.0': 'dispatch',}, inplace= True)"
   ]
  },
  {
   "cell_type": "code",
   "execution_count": null,
   "id": "e74c8e15",
   "metadata": {},
   "outputs": [],
   "source": [
    "con_data.sample(10)"
   ]
  },
  {
   "cell_type": "code",
   "execution_count": null,
   "id": "32d77825",
   "metadata": {},
   "outputs": [],
   "source": [
    "con_data.info()"
   ]
  },
  {
   "cell_type": "markdown",
   "id": "b09acc7a",
   "metadata": {},
   "source": [
    "---\n",
    "---"
   ]
  },
  {
   "cell_type": "code",
   "execution_count": null,
   "id": "f514a827",
   "metadata": {},
   "outputs": [],
   "source": [
    "con_data.isna().sum()"
   ]
  },
  {
   "cell_type": "code",
   "execution_count": null,
   "id": "1dda0820",
   "metadata": {
    "scrolled": true
   },
   "outputs": [],
   "source": [
    "# Simple Validation Method\n",
    "con_data_train , con_data_test = train_test_split(con_data, test_size=0.2, random_state=199)"
   ]
  },
  {
   "cell_type": "code",
   "execution_count": null,
   "id": "a740040a",
   "metadata": {},
   "outputs": [],
   "source": [
    "sns.heatmap(con_data.corr())"
   ]
  },
  {
   "cell_type": "code",
   "execution_count": null,
   "id": "9defb5a7",
   "metadata": {},
   "outputs": [],
   "source": []
  },
  {
   "cell_type": "code",
   "execution_count": null,
   "id": "ba5f58c2",
   "metadata": {},
   "outputs": [],
   "source": [
    "con_data.drop(columns=['ehail_fee', 'congestion_surcharge'], inplace=True)"
   ]
  },
  {
   "cell_type": "code",
   "execution_count": null,
   "id": "5becf5d4",
   "metadata": {},
   "outputs": [],
   "source": [
    "duplicate = con_data.duplicated()\n",
    "print(duplicate.sum())\n",
    "con_data[duplicate]"
   ]
  },
  {
   "cell_type": "code",
   "execution_count": null,
   "id": "be6cbd07",
   "metadata": {},
   "outputs": [],
   "source": [
    "con_data.drop_duplicates(inplace=True)"
   ]
  },
  {
   "cell_type": "code",
   "execution_count": null,
   "id": "332bf948",
   "metadata": {},
   "outputs": [],
   "source": [
    "con_data.info()"
   ]
  },
  {
   "cell_type": "code",
   "execution_count": null,
   "id": "43a0b195",
   "metadata": {},
   "outputs": [],
   "source": [
    "#con_data=con_data[con_data['passenger_count']>=0]\n",
    "#con_data.info()"
   ]
  },
  {
   "cell_type": "code",
   "execution_count": null,
   "id": "ae92c6e1",
   "metadata": {},
   "outputs": [],
   "source": [
    "# fill passenger_count with mean\n",
    "mean= con_data['passenger_count'].mean()\n",
    "\n",
    "con_data['passenger_count'].fillna(mean, inplace= True)\n",
    "con_data"
   ]
  },
  {
   "cell_type": "code",
   "execution_count": null,
   "id": "11be1503",
   "metadata": {},
   "outputs": [],
   "source": [
    "con_data.info()"
   ]
  },
  {
   "cell_type": "code",
   "execution_count": null,
   "id": "eb3f6667",
   "metadata": {},
   "outputs": [],
   "source": [
    "# trips with zero distances\n",
    "con_data[con_data['trip_distance'] == 0]\n"
   ]
  },
  {
   "cell_type": "code",
   "execution_count": null,
   "id": "2ff89a72",
   "metadata": {},
   "outputs": [],
   "source": [
    "# removing zero distance trips\n",
    "con_data = con_data[con_data['trip_distance'] > 0]\n",
    "con_data.describe()"
   ]
  },
  {
   "cell_type": "code",
   "execution_count": null,
   "id": "fa91173d",
   "metadata": {},
   "outputs": [],
   "source": [
    "con_data.shape"
   ]
  },
  {
   "cell_type": "code",
   "execution_count": null,
   "id": "b5cd7d33",
   "metadata": {},
   "outputs": [],
   "source": [
    "# removing trips with zero/negative fares\n",
    "con_data= con_data[con_data['fare_amount'] > 0]\n",
    "con_data"
   ]
  },
  {
   "cell_type": "code",
   "execution_count": null,
   "id": "c59cc5ae",
   "metadata": {},
   "outputs": [],
   "source": [
    "# removing passenger_count with zero/negative \n",
    "con_data= con_data[con_data['passenger_count'] > 0]\n",
    "con_data"
   ]
  },
  {
   "cell_type": "code",
   "execution_count": null,
   "id": "6d22a0e5",
   "metadata": {},
   "outputs": [],
   "source": [
    "con_data.describe()"
   ]
  },
  {
   "cell_type": "code",
   "execution_count": null,
   "id": "7faf10dd",
   "metadata": {},
   "outputs": [],
   "source": []
  },
  {
   "cell_type": "code",
   "execution_count": null,
   "id": "6c68ccc3",
   "metadata": {},
   "outputs": [],
   "source": [
    "# fig1=plt.figure(figsize=(11, 8))\n",
    "# ax5=fig1.add_subplot(1,1,1)\n",
    "# ax5.scatter(con_data.trip_distance, con_data.fare_amount, color='green')\n",
    "# ax5.set_title('The graph of payment depending on the trip_distance')\n",
    "# ax5.set_xlabel('Day of the week')\n",
    "# ax5.set_ylabel('Payment')\n"
   ]
  },
  {
   "cell_type": "code",
   "execution_count": null,
   "id": "995e9a0d",
   "metadata": {},
   "outputs": [],
   "source": [
    "# fig2=plt.figure(figsize=(11, 8))\n",
    "# ax5=fig2.add_subplot(1,1,1)\n",
    "# ax5.scatter(con_data.passenger_count, con_data.fare_amount, color='green')\n",
    "# ax5.set_title('The graph of payment depending on the number of passengers');\n",
    "# ax5.set_xlabel('Number of passengers')\n",
    "# ax5.set_ylabel('Payment')"
   ]
  },
  {
   "cell_type": "code",
   "execution_count": null,
   "id": "ef02ba34",
   "metadata": {},
   "outputs": [],
   "source": [
    "# fig3=plt.figure(figsize=(11, 8))\n",
    "# ax5=fig3.add_subplot(1,1,1)\n",
    "# ax5.scatter(con_data.week_day_pickup, con_data.fare_amount, color='green')\n",
    "# ax5.set_title('The graph of payment depending on the day of the week')\n",
    "# ax5.set_xlabel('Day of the week')\n",
    "# ax5.set_ylabel('Payment')"
   ]
  },
  {
   "cell_type": "code",
   "execution_count": null,
   "id": "26b19fd9",
   "metadata": {},
   "outputs": [],
   "source": []
  },
  {
   "cell_type": "code",
   "execution_count": null,
   "id": "4999f25f",
   "metadata": {},
   "outputs": [],
   "source": []
  },
  {
   "cell_type": "code",
   "execution_count": null,
   "id": "9d9447cf",
   "metadata": {},
   "outputs": [],
   "source": []
  },
  {
   "cell_type": "code",
   "execution_count": null,
   "id": "782debf0",
   "metadata": {},
   "outputs": [],
   "source": []
  },
  {
   "cell_type": "code",
   "execution_count": null,
   "id": "d62c48f8",
   "metadata": {},
   "outputs": [],
   "source": []
  },
  {
   "cell_type": "code",
   "execution_count": null,
   "id": "c119b6c5",
   "metadata": {},
   "outputs": [],
   "source": []
  },
  {
   "cell_type": "code",
   "execution_count": null,
   "id": "21a371b4",
   "metadata": {},
   "outputs": [],
   "source": []
  },
  {
   "cell_type": "code",
   "execution_count": null,
   "id": "35a2f4d7",
   "metadata": {},
   "outputs": [],
   "source": []
  },
  {
   "cell_type": "code",
   "execution_count": null,
   "id": "bce892d7",
   "metadata": {},
   "outputs": [],
   "source": []
  }
 ],
 "metadata": {
  "kernelspec": {
   "display_name": "Python 3",
   "language": "python",
   "name": "python3"
  },
  "language_info": {
   "codemirror_mode": {
    "name": "ipython",
    "version": 3
   },
   "file_extension": ".py",
   "mimetype": "text/x-python",
   "name": "python",
   "nbconvert_exporter": "python",
   "pygments_lexer": "ipython3",
   "version": "3.8.8"
  }
 },
 "nbformat": 4,
 "nbformat_minor": 5
}
